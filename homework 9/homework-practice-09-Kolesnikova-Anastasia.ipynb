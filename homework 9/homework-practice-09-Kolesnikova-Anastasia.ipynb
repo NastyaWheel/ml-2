{
 "cells": [
  {
   "cell_type": "markdown",
   "metadata": {
    "pycharm": {
     "name": "#%% md\n"
    }
   },
   "source": [
    "# Машинное обучение, ФКН ВШЭ\n",
    "\n",
    "# Практическое задание 9. EM-алгоритм\n",
    "\n",
    "## Общая информация\n",
    "\n",
    "Дата выдачи: 28.02.2024\n",
    "\n",
    "Мягкий дедлайн: 19.03.2024 23:59 MSK\n",
    "\n",
    "Жёсткий дедлайн: 25.03.2024 23:59 MSK\n",
    "\n",
    "## Оценивание и штрафы\n",
    "Каждая из задач имеет определенную «стоимость» (указана в скобках около задачи). Максимальная оценка за работу (без учёта бонусов) — 15 баллов.\n",
    "\n",
    "Сдавать задание после указанного жёсткого срока сдачи нельзя. При выставлении неполного балла за задание в связи с наличием ошибок на усмотрение проверяющего предусмотрена возможность исправить работу на указанных в ответном письме условиях.\n",
    "\n",
    "Задание выполняется самостоятельно. «Похожие» решения считаются плагиатом и все задействованные студенты (в том числе те, у кого списали) не могут получить за него больше 0 баллов (подробнее о плагиате см. на странице курса). Если вы нашли решение какого-то из заданий (или его часть) в открытом источнике, необходимо указать ссылку на этот источник в отдельном блоке в конце вашей работы (скорее всего вы будете не единственным, кто это нашел, поэтому чтобы исключить подозрение в плагиате, необходима ссылка на источник).\n",
    "\n",
    "Неэффективная реализация кода может негативно отразиться на оценке.\n",
    "\n",
    "## Формат сдачи\n",
    "Задания сдаются через систему anytask. Посылка должна содержать:\n",
    "* Ноутбук homework-practice-09-em-Username.ipynb\n",
    "* Модули preprocessing.py, metrics.py, models.py, содержащие написанный вами код\n",
    "* Ссылки на посылки в Яндекс.Контест для всех функций и классов, которые вы реализовали\n",
    "\n",
    "Ссылка на Яндекс.Контест: https://contest.yandex.ru/contest/60281\n",
    "\n",
    "Username — ваша фамилия и имя на латинице именно в таком порядке"
   ]
  },
  {
   "cell_type": "markdown",
   "metadata": {
    "pycharm": {
     "name": "#%% md\n"
    }
   },
   "source": [
    "# Generative model of Labels, Abilities, and Difficulties (GLAD)\n",
    "\n",
    "В [семинаре 16](https://github.com/esokolov/ml-course-hse/blob/master/2022-spring/seminars/sem16-em.pdf) мы рассмотрели задачу восстановления истинной разметки по меткам от экспертов (которым мы не можем доверять в полной мере, более того, их предсказания могут расходиться).\n",
    "\n",
    "Рассмотрим следующую вероятностную модель:\n",
    "\n",
    "$$ p(L, Z | \\alpha, \\beta) = \\prod_{i=1}^{n} \\prod_{j=1}^m \\sigma(\\alpha_j\\beta_i)^{[l_{ij}=z_i]}\\sigma(-\\alpha_j\\beta_i)^{1-[l_{ij}=z_i]} p(z_j)$$\n",
    "\n",
    "где $l_{ij} -$ ответ $j$-го эксперта на задачу $i$, $z_j -$ истинная разметка, $\\alpha_i, \\beta_j-$ уровень экспертизы и сложность задачи соответственно. Для более подробного описания модели можно прочитать материалы семинара, а также [оригинальную статью](http://papers.nips.cc/paper/3644-whose-vote-should-count-more-optimal-integration-of-labels-from-labelers-of-unknown-expertise.pdf). Априорное распределение положим равномерным: $p(z_i) = 0.5$."
   ]
  },
  {
   "cell_type": "code",
   "execution_count": 1,
   "metadata": {
    "pycharm": {
     "name": "#%%\n"
    }
   },
   "outputs": [],
   "source": [
    "import numpy as np\n",
    "import math\n",
    "seed = 0xDEADF00D\n",
    "np.random.seed(seed)"
   ]
  },
  {
   "cell_type": "code",
   "execution_count": 2,
   "metadata": {
    "pycharm": {
     "name": "#%%\n"
    }
   },
   "outputs": [],
   "source": [
    "L = np.load('L.npy')\n",
    "n, m = L.shape\n",
    "n_problems, n_experts = L.shape"
   ]
  },
  {
   "cell_type": "markdown",
   "metadata": {
    "pycharm": {
     "name": "#%% md\n"
    }
   },
   "source": [
    "**Задание 1. (2 балла)** Реализуйте EM-алгоритм для заданной выше модели. Вы можете воспользоваться предложенными шаблонами или написать свои. \n",
    "\n",
    "Обратите внимание, что правдоподобие моделирует не вероятность метки $l_{ij}$ принять значение 1 или 0, а вероятность того, что она равна скрытой переменной $z_i$, т.е. $p(l_{ij} = z_j|z_j, \\alpha_j, \\beta_i) \\neq p(l_{ij} = 1|\\alpha_j, \\beta_i) $. При этом заранее неизвестно, какая из скрытых переменных соответствует метке 1. Не забывайте, что параметры $\\beta_i$ должны быть неотрицательными; для этого оптимизируйте $\\log \\beta$. На M-шаге можете использовать как один шаг градиентного спуска, так и несколько: разумные результаты у вас должны получаться вне зависимости от числа итераций.\n",
    "\n",
    "Также при работе с вероятностями не забывайте о точности:\n",
    "1. Используйте логарифмы вероятностей.\n",
    "2. $\\log \\sigma(a)$ лучше преобразовать в $\\log \\sigma(a) = -\\log(1 + \\exp(-a)) = -\\mathrm{softplus}(-a) $\n",
    "3. Ещё полезные функции: `scipy.special.expit`, `scipy.special.logsumexp`, `np.log1p`\n",
    "\n",
    "Для отладки может быть полезно проверить градиент с помощью `scipy.optimize.check_grad`."
   ]
  },
  {
   "cell_type": "code",
   "execution_count": 3,
   "metadata": {
    "pycharm": {
     "name": "#%%\n"
    }
   },
   "outputs": [],
   "source": [
    "def softplus(x):\n",
    "    '''stable version of log(1 + exp(x))'''\n",
    "    c = (x > 20) * 1.\n",
    "    return np.log1p(np.exp(x * (1-c)) * (1-c)) + x * c"
   ]
  },
  {
   "cell_type": "markdown",
   "metadata": {},
   "source": [
    "Код в матричном виде."
   ]
  },
  {
   "cell_type": "code",
   "execution_count": 6,
   "metadata": {},
   "outputs": [],
   "source": [
    "from scipy.special import softmax\n",
    "\n",
    "log_prior = np.log(np.full(n_problems, 0.5))\n",
    "# получается вектор, или массив размерности (1, n_problems), или же (n_problems,)\n",
    "\n",
    "\n",
    "def log_likelihood(alpha, beta, L, z):\n",
    "    \"\"\" p(l=z|z, \\alpha, \\beta), логарифм вероятности того, что метки l равны заданным меткам z при условии параметров модели\n",
    "    Args:\n",
    "        alpha: ndarray of shape (n_experts).\n",
    "        beta: ndarray of shape (n_problems).\n",
    "        L: ndarray of shape (n_problems, n_experts).\n",
    "        z: ndarray of shape (n_problems).\n",
    "    \"\"\"\n",
    "    log_likelihood = np.zeros((n_problems, n_experts))\n",
    "\n",
    "    # alpha_beta = beta[:, np.newaxis] * alpha[np.newaxis, :]\n",
    "    alpha_beta = np.outer(beta, alpha)\n",
    "    # размерность массива alpha_beta: (n_problems, n_experts)\n",
    "\n",
    "    # L == z: возаращает массив (матрицу) булевых значений, показывающих, равен ли каждый элемент вектора\n",
    "    condition = (L == z)\n",
    "    log_likelihood[condition] = -softplus(-alpha_beta[condition])\n",
    "    log_likelihood[~condition] = -softplus(alpha_beta[~condition])\n",
    "\n",
    "    log_likelihood = np.einsum('ij->i', log_likelihood)\n",
    "    # теперь log_likelihood - вектор, или массив размерности (1, n_problems), или же (n_problems,)\n",
    "    return log_likelihood\n",
    "\n",
    "\n",
    "def posterior(alpha, beta, L):\n",
    "    \"\"\" Posterior over true labels z p(z|l, \\alpha, \\beta)\n",
    "    Args:\n",
    "        alpha: ndarray of shape (n_experts).\n",
    "        beta: ndarray of shape (n_problems).\n",
    "        L: ndarray of shape (n_problems, n_experts).\n",
    "    \"\"\"\n",
    "    \n",
    "    log_likelihood_0 = log_likelihood(alpha, beta, L, z=0)\n",
    "    log_likelihood_1 = log_likelihood(alpha, beta, L, z=1)\n",
    "    # а дальше на каком-то шаге нужно применить np.vstack, чтобы получить размерность (1, n_problems) у апостериорного распределения\n",
    "\n",
    "    q_0 = log_prior + log_likelihood_0\n",
    "    q_1 = log_prior + log_likelihood_1\n",
    "    # я хз, как работает софтмакс, но вроде можно и к многомерному массиву применять, типа независимо построчно сделает. если получися какая-то ересь, глянуть\n",
    "\n",
    "    q = softmax(np.vstack([q_0, q_1]), axis=0)\n",
    "    # у q размерность (2, n_problems)\n",
    "\n",
    "    return q"
   ]
  },
  {
   "cell_type": "code",
   "execution_count": 7,
   "metadata": {},
   "outputs": [],
   "source": [
    "from scipy.special import expit\n",
    "\n",
    "def AB(alpha, beta, L, z):\n",
    "    \"\"\" p(l=z|z, \\alpha, \\beta)\n",
    "    Args:\n",
    "        alpha: ndarray of shape (n_experts).\n",
    "        beta: ndarray of shape (n_problems).\n",
    "        L: ndarray of shape (n_problems, n_experts).\n",
    "        z: ndarray of shape (n_problems).\n",
    "    \"\"\"\n",
    "    AB_true = np.zeros((n_problems, n_experts))\n",
    "    AB_false = np.zeros((n_problems, n_experts))\n",
    "\n",
    "    alpha_beta = np.outer(beta, alpha)\n",
    "    # размерность массива alpha_beta: (n_problems, n_experts)\n",
    "\n",
    "    # L == z: возаращает массив (матрицу) булевых значений, показывающих, равен ли каждый элемент вектора\n",
    "    condition = (L == z)\n",
    "    AB_true[condition] = expit(alpha_beta[condition])\n",
    "    AB_false[~condition] = expit(-alpha_beta[~condition])\n",
    "\n",
    "    AB_matrix = AB_true - AB_false\n",
    "    # теперь AB - матрица размерности (n_problems, n_experts)\n",
    "    return AB_matrix\n",
    "\n",
    "\n",
    "def alpha_grad_lb(alpha, beta, L, q):\n",
    "    \"\"\" Gradient of lower bound wrt alpha\n",
    "    Args:\n",
    "        alpha: ndarray of shape (n_experts).\n",
    "        beta: ndarray of shape (n_problems).\n",
    "        L: ndarray of shape (n_problems, n_experts).\n",
    "        q: ndarray of shape (2, n_problems).\n",
    "    \"\"\"\n",
    "\n",
    "    AB_matrix_0 = AB(alpha, beta, L, z=0)\n",
    "    AB_matrix_1 = AB(alpha, beta, L, z=1)\n",
    "    AB_matrix = np.stack([AB_matrix_0, AB_matrix_1])\n",
    "\n",
    "    beta_q = beta * q\n",
    "\n",
    "    grad_alpha = np.tensordot(beta_q, AB_matrix) # 2x2000 @ 2x2000x20 > 1x20\n",
    "\n",
    "    return grad_alpha\n",
    "\n",
    "\n",
    "def logbeta_grad_lb(alpha, beta, L, q):\n",
    "    \"\"\" Gradient of lower bound wrt alpha\n",
    "    Args:\n",
    "        alpha: ndarray of shape (n_experts).\n",
    "        beta: ndarray of shape (n_problems).\n",
    "        L: ndarray of shape (n_problems, n_experts).\n",
    "        q: ndarray of shape (2, n_problems).\n",
    "    \"\"\"\n",
    "    \n",
    "    alpha_q = np.tensordot(q, alpha, axes=0)\n",
    "\n",
    "    AB_matrix_0 = AB(alpha, beta, L, z=0)\n",
    "    AB_matrix_1 = AB(alpha, beta, L, z=1)\n",
    "    AB_matrix = np.stack([AB_matrix_0, AB_matrix_1])\n",
    "\n",
    "    sum1 = np.sum([alpha_q, AB_matrix], axis=3)\n",
    "    grad_beta = np.sum(sum1, axis=(0, 1)) # размерность (2000,)\n",
    "\n",
    "    return grad_beta"
   ]
  },
  {
   "cell_type": "code",
   "execution_count": 8,
   "metadata": {},
   "outputs": [],
   "source": [
    "def lower_bound(alpha, beta, L, q):\n",
    "    \"\"\" Lower bound\n",
    "    Args:\n",
    "        alpha: ndarray of shape (n_experts).\n",
    "        beta: ndarray of shape (n_problems).\n",
    "        L: ndarray of shape (n_problems, n_experts).\n",
    "        q: ndarray of shape (2, n_problems).\n",
    "    \"\"\"\n",
    "    log_likelihood_0 = log_likelihood(alpha, beta, L, z=0)\n",
    "    log_likelihood_1 = log_likelihood(alpha, beta, L, z=1)\n",
    "\n",
    "    lower_bound_0 = q[0] * log_likelihood_0\n",
    "    lower_bound_1 = q[1] * log_likelihood_1\n",
    "\n",
    "    lower_bound = np.sum(lower_bound_0) + np.sum(lower_bound_1)\n",
    "\n",
    "    return lower_bound"
   ]
  },
  {
   "cell_type": "code",
   "execution_count": 23,
   "metadata": {
    "pycharm": {
     "name": "#%%\n"
    }
   },
   "outputs": [],
   "source": [
    "def em(L, n_steps=1000, lr=1e-3):\n",
    "    # initialize parameters\n",
    "    alpha, logbeta = np.random.randn(m), np.random.randn(n)\n",
    "    q = np.ones((2, len(logbeta))) * 0.5\n",
    "\n",
    "    lower_bound_list = []\n",
    "\n",
    "    for step in range(n_steps):\n",
    "        # E-step\n",
    "        q = posterior(alpha, np.exp(logbeta), L)\n",
    "\n",
    "        # M-step\n",
    "        grad_alpha = alpha_grad_lb(alpha, np.exp(logbeta), L, q)\n",
    "        grad_logbeta = logbeta_grad_lb(alpha, np.exp(logbeta), L, q)\n",
    "        logbeta += lr * grad_logbeta\n",
    "        alpha += lr * grad_alpha\n",
    "\n",
    "        # вычисляем нижнюю оценку на логарифм правдоподобия модели\n",
    "        lb = lower_bound(alpha, np.exp(logbeta), L, q)\n",
    "        lower_bound_list.append(lb)\n",
    "        # print(f'Step {step}: Lower bound = {lb}')\n",
    "\n",
    "    return alpha, np.exp(logbeta), q, lower_bound_list"
   ]
  },
  {
   "cell_type": "code",
   "execution_count": 19,
   "metadata": {},
   "outputs": [
    {
     "name": "stdout",
     "output_type": "stream",
     "text": [
      "Step 0: Lower bound = -62976.90121521668\n",
      "Step 1: Lower bound = -83392.83947674448\n",
      "Step 2: Lower bound = -104405.86284215283\n",
      "Step 3: Lower bound = -122802.15819999452\n",
      "Step 4: Lower bound = -136821.40231534274\n",
      "Step 5: Lower bound = -145413.0684979214\n",
      "Step 6: Lower bound = -148509.48627968697\n",
      "Step 7: Lower bound = -146747.63966602448\n",
      "Step 8: Lower bound = -141045.8553787131\n",
      "Step 9: Lower bound = -132445.8997802967\n",
      "Step 10: Lower bound = -121983.09237891364\n",
      "Step 11: Lower bound = -110575.65985522083\n"
     ]
    },
    {
     "name": "stdout",
     "output_type": "stream",
     "text": [
      "Step 12: Lower bound = -98963.0332935313\n",
      "Step 13: Lower bound = -87704.58039549692\n",
      "Step 14: Lower bound = -77189.26090267187\n",
      "Step 15: Lower bound = -67659.28731993155\n",
      "Step 16: Lower bound = -59239.37846003799\n",
      "Step 17: Lower bound = -51965.96321766901\n",
      "Step 18: Lower bound = -45813.08976962535\n",
      "Step 19: Lower bound = -40713.59089553807\n",
      "Step 20: Lower bound = -36575.280417459086\n",
      "Step 21: Lower bound = -33292.69905756875\n",
      "Step 22: Lower bound = -30755.31641826748\n",
      "Step 23: Lower bound = -28853.19108197545\n",
      "Step 24: Lower bound = -27480.939507847477\n",
      "Step 25: Lower bound = -26540.572407804284\n",
      "Step 26: Lower bound = -25943.47713073509\n",
      "Step 27: Lower bound = -25611.661310296622\n",
      "Step 28: Lower bound = -25478.322276185274\n",
      "Step 29: Lower bound = -25487.80357045895\n",
      "Step 30: Lower bound = -25595.009359897114\n",
      "Step 31: Lower bound = -25764.380435343355\n",
      "Step 32: Lower bound = -25968.59552041629\n",
      "Step 33: Lower bound = -26187.207333053062\n",
      "Step 34: Lower bound = -26405.39499212189\n",
      "Step 35: Lower bound = -26612.90995695366\n",
      "Step 36: Lower bound = -26803.188034035717\n",
      "Step 37: Lower bound = -26972.5693236952\n",
      "Step 38: Lower bound = -27119.60221262358\n",
      "Step 39: Lower bound = -27244.4417752213\n",
      "Step 40: Lower bound = -27348.351189164532\n",
      "Step 41: Lower bound = -27433.29593780691\n",
      "Step 42: Lower bound = -27501.614256606386\n",
      "Step 43: Lower bound = -27555.75636864586\n",
      "Step 44: Lower bound = -27598.09370104816\n",
      "Step 45: Lower bound = -27630.797025063228\n",
      "Step 46: Lower bound = -27655.77349375416\n",
      "Step 47: Lower bound = -27674.646553882107\n",
      "Step 48: Lower bound = -27688.763239916447\n",
      "Step 49: Lower bound = -27699.21754918087\n",
      "Step 50: Lower bound = -27706.882590101868\n",
      "Step 51: Lower bound = -27712.446015002428\n",
      "Step 52: Lower bound = -27716.443891601808\n",
      "Step 53: Lower bound = -27719.289844267678\n",
      "Step 54: Lower bound = -27721.298924062125\n",
      "Step 55: Lower bound = -27722.707336770658\n",
      "Step 56: Lower bound = -27723.689192356196\n",
      "Step 57: Lower bound = -27724.370780034435\n",
      "Step 58: Lower bound = -27724.84244326678\n",
      "Step 59: Lower bound = -27725.16809745505\n",
      "Step 60: Lower bound = -27725.39257920727\n",
      "Step 61: Lower bound = -27725.547145240023\n",
      "Step 62: Lower bound = -27725.653487393083\n",
      "Step 63: Lower bound = -27725.72661156323\n",
      "Step 64: Lower bound = -27725.776875263888\n",
      "Step 65: Lower bound = -27725.811416448876\n",
      "Step 66: Lower bound = -27725.835149010632\n",
      "Step 67: Lower bound = -27725.851453263385\n",
      "Step 68: Lower bound = -27725.862653383578\n",
      "Step 69: Lower bound = -27725.87034683655\n",
      "Step 70: Lower bound = -27725.87563134335\n",
      "Step 71: Lower bound = -27725.87926109889\n",
      "Step 72: Lower bound = -27725.881754221115\n",
      "Step 73: Lower bound = -27725.883466621868\n",
      "Step 74: Lower bound = -27725.88464277665\n",
      "Step 75: Lower bound = -27725.885450610083\n",
      "Step 76: Lower bound = -27725.886005463326\n",
      "Step 77: Lower bound = -27725.886386558854\n",
      "Step 78: Lower bound = -27725.886648310414\n",
      "Step 79: Lower bound = -27725.886828091738\n",
      "Step 80: Lower bound = -27725.886951572655\n",
      "Step 81: Lower bound = -27725.887036384247\n",
      "Step 82: Lower bound = -27725.887094636215\n",
      "Step 83: Lower bound = -27725.887134645996\n",
      "Step 84: Lower bound = -27725.887162126313\n",
      "Step 85: Lower bound = -27725.8871810009\n",
      "Step 86: Lower bound = -27725.887193964732\n",
      "Step 87: Lower bound = -27725.887202868813\n",
      "Step 88: Lower bound = -27725.887208984495\n",
      "Step 89: Lower bound = -27725.887213185\n",
      "Step 90: Lower bound = -27725.887216070078\n",
      "Step 91: Lower bound = -27725.887218051663\n",
      "Step 92: Lower bound = -27725.8872194127\n",
      "Step 93: Lower bound = -27725.88722034751\n",
      "Step 94: Lower bound = -27725.887220989585\n",
      "Step 95: Lower bound = -27725.88722143058\n",
      "Step 96: Lower bound = -27725.88722173348\n",
      "Step 97: Lower bound = -27725.88722194152\n",
      "Step 98: Lower bound = -27725.887222084413\n",
      "Step 99: Lower bound = -27725.887222182555\n",
      "Step 100: Lower bound = -27725.887222249963\n",
      "Step 101: Lower bound = -27725.887222296264\n",
      "Step 102: Lower bound = -27725.887222328067\n",
      "Step 103: Lower bound = -27725.887222349906\n",
      "Step 104: Lower bound = -27725.88722236491\n",
      "Step 105: Lower bound = -27725.88722237521\n",
      "Step 106: Lower bound = -27725.88722238229\n",
      "Step 107: Lower bound = -27725.88722238715\n",
      "Step 108: Lower bound = -27725.887222390487\n",
      "Step 109: Lower bound = -27725.887222392783\n",
      "Step 110: Lower bound = -27725.887222394354\n",
      "Step 111: Lower bound = -27725.88722239544\n",
      "Step 112: Lower bound = -27725.88722239618\n",
      "Step 113: Lower bound = -27725.887222396694\n",
      "Step 114: Lower bound = -27725.887222397047\n",
      "Step 115: Lower bound = -27725.887222397287\n",
      "Step 116: Lower bound = -27725.887222397447\n",
      "Step 117: Lower bound = -27725.887222397563\n",
      "Step 118: Lower bound = -27725.887222397643\n",
      "Step 119: Lower bound = -27725.887222397694\n",
      "Step 120: Lower bound = -27725.88722239773\n",
      "Step 121: Lower bound = -27725.887222397756\n",
      "Step 122: Lower bound = -27725.887222397774\n",
      "Step 123: Lower bound = -27725.887222397785\n",
      "Step 124: Lower bound = -27725.887222397796\n",
      "Step 125: Lower bound = -27725.8872223978\n",
      "Step 126: Lower bound = -27725.887222397803\n",
      "Step 127: Lower bound = -27725.887222397807\n",
      "Step 128: Lower bound = -27725.887222397807\n",
      "Step 129: Lower bound = -27725.887222397807\n",
      "Step 130: Lower bound = -27725.88722239781\n",
      "Step 131: Lower bound = -27725.88722239781\n",
      "Step 132: Lower bound = -27725.88722239781\n",
      "Step 133: Lower bound = -27725.88722239781\n",
      "Step 134: Lower bound = -27725.88722239781\n",
      "Step 135: Lower bound = -27725.88722239781\n",
      "Step 136: Lower bound = -27725.88722239781\n",
      "Step 137: Lower bound = -27725.88722239781\n",
      "Step 138: Lower bound = -27725.88722239781\n",
      "Step 139: Lower bound = -27725.88722239781\n",
      "Step 140: Lower bound = -27725.88722239781\n",
      "Step 141: Lower bound = -27725.88722239781\n",
      "Step 142: Lower bound = -27725.887222397814\n",
      "Step 143: Lower bound = -27725.88722239781\n",
      "Step 144: Lower bound = -27725.88722239781\n",
      "Step 145: Lower bound = -27725.88722239781\n",
      "Step 146: Lower bound = -27725.88722239781\n",
      "Step 147: Lower bound = -27725.88722239781\n",
      "Step 148: Lower bound = -27725.88722239781\n",
      "Step 149: Lower bound = -27725.88722239781\n",
      "Step 150: Lower bound = -27725.88722239781\n",
      "Step 151: Lower bound = -27725.887222397814\n",
      "Step 152: Lower bound = -27725.88722239781\n",
      "Step 153: Lower bound = -27725.88722239781\n",
      "Step 154: Lower bound = -27725.88722239781\n",
      "Step 155: Lower bound = -27725.88722239781\n",
      "Step 156: Lower bound = -27725.88722239781\n",
      "Step 157: Lower bound = -27725.88722239781\n",
      "Step 158: Lower bound = -27725.88722239781\n",
      "Step 159: Lower bound = -27725.88722239781\n",
      "Step 160: Lower bound = -27725.88722239781\n",
      "Step 161: Lower bound = -27725.88722239781\n",
      "Step 162: Lower bound = -27725.88722239781\n",
      "Step 163: Lower bound = -27725.88722239781\n",
      "Step 164: Lower bound = -27725.88722239781\n",
      "Step 165: Lower bound = -27725.88722239781\n",
      "Step 166: Lower bound = -27725.887222397814\n",
      "Step 167: Lower bound = -27725.88722239781\n",
      "Step 168: Lower bound = -27725.88722239781\n",
      "Step 169: Lower bound = -27725.88722239781\n",
      "Step 170: Lower bound = -27725.88722239781\n",
      "Step 171: Lower bound = -27725.887222397814\n",
      "Step 172: Lower bound = -27725.88722239781\n",
      "Step 173: Lower bound = -27725.88722239781\n",
      "Step 174: Lower bound = -27725.88722239781\n",
      "Step 175: Lower bound = -27725.887222397814\n",
      "Step 176: Lower bound = -27725.88722239781\n",
      "Step 177: Lower bound = -27725.88722239781\n",
      "Step 178: Lower bound = -27725.88722239781\n",
      "Step 179: Lower bound = -27725.88722239781\n",
      "Step 180: Lower bound = -27725.88722239781\n",
      "Step 181: Lower bound = -27725.88722239781\n",
      "Step 182: Lower bound = -27725.88722239781\n",
      "Step 183: Lower bound = -27725.88722239781\n",
      "Step 184: Lower bound = -27725.88722239781\n",
      "Step 185: Lower bound = -27725.887222397814\n",
      "Step 186: Lower bound = -27725.88722239781\n",
      "Step 187: Lower bound = -27725.887222397814\n",
      "Step 188: Lower bound = -27725.88722239781\n",
      "Step 189: Lower bound = -27725.88722239781\n",
      "Step 190: Lower bound = -27725.88722239781\n",
      "Step 191: Lower bound = -27725.88722239781\n",
      "Step 192: Lower bound = -27725.88722239781\n",
      "Step 193: Lower bound = -27725.88722239781\n",
      "Step 194: Lower bound = -27725.88722239781\n",
      "Step 195: Lower bound = -27725.88722239781\n",
      "Step 196: Lower bound = -27725.88722239781\n",
      "Step 197: Lower bound = -27725.88722239781\n",
      "Step 198: Lower bound = -27725.88722239781\n",
      "Step 199: Lower bound = -27725.88722239781\n",
      "Step 200: Lower bound = -27725.88722239781\n",
      "Step 201: Lower bound = -27725.88722239781\n",
      "Step 202: Lower bound = -27725.88722239781\n",
      "Step 203: Lower bound = -27725.88722239781\n",
      "Step 204: Lower bound = -27725.88722239781\n",
      "Step 205: Lower bound = -27725.88722239781\n",
      "Step 206: Lower bound = -27725.88722239781\n",
      "Step 207: Lower bound = -27725.887222397814\n",
      "Step 208: Lower bound = -27725.88722239781\n",
      "Step 209: Lower bound = -27725.887222397814\n",
      "Step 210: Lower bound = -27725.887222397814\n",
      "Step 211: Lower bound = -27725.887222397814\n",
      "Step 212: Lower bound = -27725.887222397814\n",
      "Step 213: Lower bound = -27725.887222397814\n",
      "Step 214: Lower bound = -27725.88722239781\n",
      "Step 215: Lower bound = -27725.887222397814\n",
      "Step 216: Lower bound = -27725.887222397814\n",
      "Step 217: Lower bound = -27725.887222397814\n",
      "Step 218: Lower bound = -27725.887222397814\n",
      "Step 219: Lower bound = -27725.887222397814\n",
      "Step 220: Lower bound = -27725.887222397814\n",
      "Step 221: Lower bound = -27725.88722239781\n",
      "Step 222: Lower bound = -27725.88722239781\n",
      "Step 223: Lower bound = -27725.887222397814\n",
      "Step 224: Lower bound = -27725.887222397814\n",
      "Step 225: Lower bound = -27725.887222397818\n",
      "Step 226: Lower bound = -27725.887222397814\n",
      "Step 227: Lower bound = -27725.887222397818\n",
      "Step 228: Lower bound = -27725.887222397818\n",
      "Step 229: Lower bound = -27725.887222397818\n",
      "Step 230: Lower bound = -27725.887222397814\n",
      "Step 231: Lower bound = -27725.887222397818\n",
      "Step 232: Lower bound = -27725.887222397814\n",
      "Step 233: Lower bound = -27725.887222397814\n",
      "Step 234: Lower bound = -27725.887222397814\n",
      "Step 235: Lower bound = -27725.887222397814\n",
      "Step 236: Lower bound = -27725.887222397818\n",
      "Step 237: Lower bound = -27725.887222397814\n",
      "Step 238: Lower bound = -27725.887222397814\n",
      "Step 239: Lower bound = -27725.887222397814\n",
      "Step 240: Lower bound = -27725.887222397814\n",
      "Step 241: Lower bound = -27725.887222397814\n",
      "Step 242: Lower bound = -27725.887222397814\n",
      "Step 243: Lower bound = -27725.887222397814\n",
      "Step 244: Lower bound = -27725.887222397814\n",
      "Step 245: Lower bound = -27725.887222397814\n",
      "Step 246: Lower bound = -27725.887222397814\n",
      "Step 247: Lower bound = -27725.887222397814\n",
      "Step 248: Lower bound = -27725.887222397814\n",
      "Step 249: Lower bound = -27725.887222397814\n",
      "Step 250: Lower bound = -27725.887222397814\n",
      "Step 251: Lower bound = -27725.887222397814\n",
      "Step 252: Lower bound = -27725.887222397814\n",
      "Step 253: Lower bound = -27725.887222397814\n",
      "Step 254: Lower bound = -27725.887222397814\n",
      "Step 255: Lower bound = -27725.887222397814\n",
      "Step 256: Lower bound = -27725.887222397814\n",
      "Step 257: Lower bound = -27725.887222397814\n",
      "Step 258: Lower bound = -27725.887222397814\n",
      "Step 259: Lower bound = -27725.887222397814\n",
      "Step 260: Lower bound = -27725.887222397814\n",
      "Step 261: Lower bound = -27725.887222397814\n",
      "Step 262: Lower bound = -27725.887222397814\n",
      "Step 263: Lower bound = -27725.887222397814\n",
      "Step 264: Lower bound = -27725.887222397814\n",
      "Step 265: Lower bound = -27725.887222397814\n",
      "Step 266: Lower bound = -27725.887222397814\n",
      "Step 267: Lower bound = -27725.887222397814\n",
      "Step 268: Lower bound = -27725.887222397814\n",
      "Step 269: Lower bound = -27725.887222397814\n",
      "Step 270: Lower bound = -27725.887222397814\n",
      "Step 271: Lower bound = -27725.887222397814\n",
      "Step 272: Lower bound = -27725.887222397814\n",
      "Step 273: Lower bound = -27725.887222397814\n",
      "Step 274: Lower bound = -27725.887222397814\n",
      "Step 275: Lower bound = -27725.887222397814\n",
      "Step 276: Lower bound = -27725.887222397814\n",
      "Step 277: Lower bound = -27725.887222397814\n",
      "Step 278: Lower bound = -27725.887222397814\n",
      "Step 279: Lower bound = -27725.887222397814\n",
      "Step 280: Lower bound = -27725.887222397814\n",
      "Step 281: Lower bound = -27725.887222397814\n",
      "Step 282: Lower bound = -27725.887222397814\n",
      "Step 283: Lower bound = -27725.887222397814\n",
      "Step 284: Lower bound = -27725.887222397814\n",
      "Step 285: Lower bound = -27725.887222397814\n",
      "Step 286: Lower bound = -27725.887222397814\n",
      "Step 287: Lower bound = -27725.887222397814\n",
      "Step 288: Lower bound = -27725.887222397814\n",
      "Step 289: Lower bound = -27725.887222397814\n",
      "Step 290: Lower bound = -27725.887222397814\n",
      "Step 291: Lower bound = -27725.887222397814\n",
      "Step 292: Lower bound = -27725.887222397814\n",
      "Step 293: Lower bound = -27725.887222397814\n",
      "Step 294: Lower bound = -27725.887222397814\n",
      "Step 295: Lower bound = -27725.887222397814\n",
      "Step 296: Lower bound = -27725.887222397814\n",
      "Step 297: Lower bound = -27725.887222397814\n",
      "Step 298: Lower bound = -27725.887222397814\n",
      "Step 299: Lower bound = -27725.887222397814\n",
      "Step 300: Lower bound = -27725.887222397814\n",
      "Step 301: Lower bound = -27725.887222397814\n",
      "Step 302: Lower bound = -27725.887222397814\n",
      "Step 303: Lower bound = -27725.887222397814\n",
      "Step 304: Lower bound = -27725.887222397814\n",
      "Step 305: Lower bound = -27725.887222397814\n",
      "Step 306: Lower bound = -27725.887222397814\n",
      "Step 307: Lower bound = -27725.887222397814\n",
      "Step 308: Lower bound = -27725.887222397814\n",
      "Step 309: Lower bound = -27725.887222397814\n",
      "Step 310: Lower bound = -27725.887222397814\n",
      "Step 311: Lower bound = -27725.887222397814\n",
      "Step 312: Lower bound = -27725.887222397814\n",
      "Step 313: Lower bound = -27725.887222397814\n",
      "Step 314: Lower bound = -27725.887222397814\n",
      "Step 315: Lower bound = -27725.887222397814\n",
      "Step 316: Lower bound = -27725.887222397814\n",
      "Step 317: Lower bound = -27725.887222397814\n",
      "Step 318: Lower bound = -27725.887222397814\n",
      "Step 319: Lower bound = -27725.887222397814\n",
      "Step 320: Lower bound = -27725.887222397814\n",
      "Step 321: Lower bound = -27725.887222397814\n",
      "Step 322: Lower bound = -27725.887222397814\n",
      "Step 323: Lower bound = -27725.887222397814\n",
      "Step 324: Lower bound = -27725.887222397814\n",
      "Step 325: Lower bound = -27725.887222397814\n",
      "Step 326: Lower bound = -27725.887222397814\n",
      "Step 327: Lower bound = -27725.887222397814\n",
      "Step 328: Lower bound = -27725.887222397814\n",
      "Step 329: Lower bound = -27725.887222397814\n",
      "Step 330: Lower bound = -27725.887222397814\n",
      "Step 331: Lower bound = -27725.887222397814\n",
      "Step 332: Lower bound = -27725.887222397814\n",
      "Step 333: Lower bound = -27725.887222397814\n",
      "Step 334: Lower bound = -27725.887222397814\n",
      "Step 335: Lower bound = -27725.887222397814\n",
      "Step 336: Lower bound = -27725.887222397814\n",
      "Step 337: Lower bound = -27725.887222397814\n",
      "Step 338: Lower bound = -27725.887222397814\n",
      "Step 339: Lower bound = -27725.887222397814\n",
      "Step 340: Lower bound = -27725.887222397814\n",
      "Step 341: Lower bound = -27725.887222397814\n",
      "Step 342: Lower bound = -27725.887222397814\n",
      "Step 343: Lower bound = -27725.887222397814\n",
      "Step 344: Lower bound = -27725.887222397814\n",
      "Step 345: Lower bound = -27725.887222397814\n",
      "Step 346: Lower bound = -27725.887222397814\n",
      "Step 347: Lower bound = -27725.887222397814\n",
      "Step 348: Lower bound = -27725.887222397814\n",
      "Step 349: Lower bound = -27725.887222397814\n",
      "Step 350: Lower bound = -27725.887222397814\n",
      "Step 351: Lower bound = -27725.887222397814\n",
      "Step 352: Lower bound = -27725.887222397814\n",
      "Step 353: Lower bound = -27725.887222397814\n",
      "Step 354: Lower bound = -27725.887222397814\n",
      "Step 355: Lower bound = -27725.887222397814\n",
      "Step 356: Lower bound = -27725.887222397814\n",
      "Step 357: Lower bound = -27725.887222397814\n",
      "Step 358: Lower bound = -27725.887222397814\n",
      "Step 359: Lower bound = -27725.887222397814\n",
      "Step 360: Lower bound = -27725.887222397814\n",
      "Step 361: Lower bound = -27725.887222397814\n",
      "Step 362: Lower bound = -27725.887222397814\n",
      "Step 363: Lower bound = -27725.887222397814\n",
      "Step 364: Lower bound = -27725.887222397814\n",
      "Step 365: Lower bound = -27725.887222397814\n",
      "Step 366: Lower bound = -27725.887222397814\n",
      "Step 367: Lower bound = -27725.887222397814\n",
      "Step 368: Lower bound = -27725.887222397814\n",
      "Step 369: Lower bound = -27725.887222397814\n",
      "Step 370: Lower bound = -27725.887222397814\n",
      "Step 371: Lower bound = -27725.887222397814\n",
      "Step 372: Lower bound = -27725.887222397814\n",
      "Step 373: Lower bound = -27725.887222397814\n",
      "Step 374: Lower bound = -27725.887222397814\n",
      "Step 375: Lower bound = -27725.887222397814\n",
      "Step 376: Lower bound = -27725.887222397814\n",
      "Step 377: Lower bound = -27725.887222397814\n",
      "Step 378: Lower bound = -27725.887222397814\n",
      "Step 379: Lower bound = -27725.887222397814\n",
      "Step 380: Lower bound = -27725.887222397814\n",
      "Step 381: Lower bound = -27725.887222397814\n",
      "Step 382: Lower bound = -27725.887222397814\n",
      "Step 383: Lower bound = -27725.887222397814\n",
      "Step 384: Lower bound = -27725.887222397814\n",
      "Step 385: Lower bound = -27725.887222397814\n",
      "Step 386: Lower bound = -27725.887222397814\n",
      "Step 387: Lower bound = -27725.887222397814\n",
      "Step 388: Lower bound = -27725.887222397814\n",
      "Step 389: Lower bound = -27725.887222397814\n",
      "Step 390: Lower bound = -27725.887222397814\n",
      "Step 391: Lower bound = -27725.887222397814\n",
      "Step 392: Lower bound = -27725.887222397814\n",
      "Step 393: Lower bound = -27725.887222397814\n",
      "Step 394: Lower bound = -27725.887222397814\n",
      "Step 395: Lower bound = -27725.887222397814\n",
      "Step 396: Lower bound = -27725.887222397814\n",
      "Step 397: Lower bound = -27725.887222397814\n",
      "Step 398: Lower bound = -27725.887222397814\n",
      "Step 399: Lower bound = -27725.887222397814\n",
      "Step 400: Lower bound = -27725.887222397814\n",
      "Step 401: Lower bound = -27725.887222397814\n",
      "Step 402: Lower bound = -27725.887222397814\n",
      "Step 403: Lower bound = -27725.887222397814\n",
      "Step 404: Lower bound = -27725.887222397814\n",
      "Step 405: Lower bound = -27725.887222397814\n",
      "Step 406: Lower bound = -27725.887222397814\n",
      "Step 407: Lower bound = -27725.887222397814\n",
      "Step 408: Lower bound = -27725.887222397814\n",
      "Step 409: Lower bound = -27725.887222397814\n",
      "Step 410: Lower bound = -27725.887222397814\n",
      "Step 411: Lower bound = -27725.887222397814\n",
      "Step 412: Lower bound = -27725.887222397814\n",
      "Step 413: Lower bound = -27725.887222397814\n",
      "Step 414: Lower bound = -27725.887222397814\n",
      "Step 415: Lower bound = -27725.887222397814\n",
      "Step 416: Lower bound = -27725.887222397814\n",
      "Step 417: Lower bound = -27725.887222397814\n",
      "Step 418: Lower bound = -27725.887222397814\n",
      "Step 419: Lower bound = -27725.887222397814\n",
      "Step 420: Lower bound = -27725.887222397814\n",
      "Step 421: Lower bound = -27725.887222397814\n",
      "Step 422: Lower bound = -27725.887222397814\n",
      "Step 423: Lower bound = -27725.887222397814\n",
      "Step 424: Lower bound = -27725.887222397814\n",
      "Step 425: Lower bound = -27725.887222397814\n",
      "Step 426: Lower bound = -27725.887222397814\n",
      "Step 427: Lower bound = -27725.887222397814\n",
      "Step 428: Lower bound = -27725.887222397814\n",
      "Step 429: Lower bound = -27725.887222397814\n",
      "Step 430: Lower bound = -27725.887222397814\n",
      "Step 431: Lower bound = -27725.887222397814\n",
      "Step 432: Lower bound = -27725.887222397814\n",
      "Step 433: Lower bound = -27725.887222397814\n",
      "Step 434: Lower bound = -27725.887222397814\n",
      "Step 435: Lower bound = -27725.887222397814\n",
      "Step 436: Lower bound = -27725.887222397814\n",
      "Step 437: Lower bound = -27725.887222397814\n",
      "Step 438: Lower bound = -27725.887222397814\n",
      "Step 439: Lower bound = -27725.887222397814\n",
      "Step 440: Lower bound = -27725.887222397814\n",
      "Step 441: Lower bound = -27725.887222397814\n",
      "Step 442: Lower bound = -27725.887222397814\n",
      "Step 443: Lower bound = -27725.887222397814\n",
      "Step 444: Lower bound = -27725.887222397814\n",
      "Step 445: Lower bound = -27725.887222397814\n",
      "Step 446: Lower bound = -27725.887222397814\n",
      "Step 447: Lower bound = -27725.887222397814\n",
      "Step 448: Lower bound = -27725.887222397814\n",
      "Step 449: Lower bound = -27725.887222397814\n",
      "Step 450: Lower bound = -27725.887222397814\n",
      "Step 451: Lower bound = -27725.887222397814\n",
      "Step 452: Lower bound = -27725.887222397814\n",
      "Step 453: Lower bound = -27725.887222397814\n",
      "Step 454: Lower bound = -27725.887222397814\n",
      "Step 455: Lower bound = -27725.887222397814\n",
      "Step 456: Lower bound = -27725.887222397814\n",
      "Step 457: Lower bound = -27725.887222397814\n",
      "Step 458: Lower bound = -27725.887222397814\n",
      "Step 459: Lower bound = -27725.887222397814\n",
      "Step 460: Lower bound = -27725.887222397814\n",
      "Step 461: Lower bound = -27725.887222397814\n",
      "Step 462: Lower bound = -27725.887222397814\n",
      "Step 463: Lower bound = -27725.887222397814\n",
      "Step 464: Lower bound = -27725.887222397814\n",
      "Step 465: Lower bound = -27725.887222397814\n",
      "Step 466: Lower bound = -27725.887222397814\n",
      "Step 467: Lower bound = -27725.887222397814\n",
      "Step 468: Lower bound = -27725.887222397814\n",
      "Step 469: Lower bound = -27725.887222397814\n",
      "Step 470: Lower bound = -27725.887222397814\n",
      "Step 471: Lower bound = -27725.887222397814\n",
      "Step 472: Lower bound = -27725.887222397814\n",
      "Step 473: Lower bound = -27725.887222397814\n",
      "Step 474: Lower bound = -27725.887222397814\n",
      "Step 475: Lower bound = -27725.887222397814\n",
      "Step 476: Lower bound = -27725.887222397814\n",
      "Step 477: Lower bound = -27725.887222397814\n",
      "Step 478: Lower bound = -27725.887222397814\n",
      "Step 479: Lower bound = -27725.887222397814\n",
      "Step 480: Lower bound = -27725.887222397814\n",
      "Step 481: Lower bound = -27725.887222397814\n",
      "Step 482: Lower bound = -27725.887222397814\n",
      "Step 483: Lower bound = -27725.887222397814\n",
      "Step 484: Lower bound = -27725.887222397814\n",
      "Step 485: Lower bound = -27725.887222397814\n",
      "Step 486: Lower bound = -27725.887222397814\n",
      "Step 487: Lower bound = -27725.887222397814\n",
      "Step 488: Lower bound = -27725.887222397814\n",
      "Step 489: Lower bound = -27725.887222397814\n",
      "Step 490: Lower bound = -27725.887222397814\n",
      "Step 491: Lower bound = -27725.887222397814\n",
      "Step 492: Lower bound = -27725.887222397814\n",
      "Step 493: Lower bound = -27725.887222397814\n",
      "Step 494: Lower bound = -27725.887222397814\n",
      "Step 495: Lower bound = -27725.887222397814\n",
      "Step 496: Lower bound = -27725.887222397814\n",
      "Step 497: Lower bound = -27725.887222397814\n",
      "Step 498: Lower bound = -27725.887222397814\n",
      "Step 499: Lower bound = -27725.887222397814\n",
      "Step 500: Lower bound = -27725.887222397814\n",
      "Step 501: Lower bound = -27725.887222397814\n",
      "Step 502: Lower bound = -27725.887222397814\n",
      "Step 503: Lower bound = -27725.887222397814\n",
      "Step 504: Lower bound = -27725.887222397814\n",
      "Step 505: Lower bound = -27725.887222397814\n",
      "Step 506: Lower bound = -27725.887222397814\n",
      "Step 507: Lower bound = -27725.887222397814\n",
      "Step 508: Lower bound = -27725.887222397814\n",
      "Step 509: Lower bound = -27725.887222397814\n",
      "Step 510: Lower bound = -27725.887222397814\n",
      "Step 511: Lower bound = -27725.887222397814\n",
      "Step 512: Lower bound = -27725.887222397814\n",
      "Step 513: Lower bound = -27725.887222397814\n",
      "Step 514: Lower bound = -27725.887222397814\n",
      "Step 515: Lower bound = -27725.887222397814\n",
      "Step 516: Lower bound = -27725.887222397814\n",
      "Step 517: Lower bound = -27725.887222397814\n",
      "Step 518: Lower bound = -27725.887222397814\n",
      "Step 519: Lower bound = -27725.887222397814\n",
      "Step 520: Lower bound = -27725.887222397814\n",
      "Step 521: Lower bound = -27725.887222397814\n",
      "Step 522: Lower bound = -27725.887222397814\n",
      "Step 523: Lower bound = -27725.887222397814\n",
      "Step 524: Lower bound = -27725.887222397814\n",
      "Step 525: Lower bound = -27725.887222397814\n",
      "Step 526: Lower bound = -27725.887222397814\n",
      "Step 527: Lower bound = -27725.887222397814\n",
      "Step 528: Lower bound = -27725.887222397814\n",
      "Step 529: Lower bound = -27725.887222397814\n",
      "Step 530: Lower bound = -27725.887222397814\n",
      "Step 531: Lower bound = -27725.887222397814\n",
      "Step 532: Lower bound = -27725.887222397814\n",
      "Step 533: Lower bound = -27725.887222397814\n",
      "Step 534: Lower bound = -27725.887222397814\n",
      "Step 535: Lower bound = -27725.887222397814\n",
      "Step 536: Lower bound = -27725.887222397814\n",
      "Step 537: Lower bound = -27725.887222397814\n",
      "Step 538: Lower bound = -27725.887222397814\n",
      "Step 539: Lower bound = -27725.887222397814\n",
      "Step 540: Lower bound = -27725.887222397814\n",
      "Step 541: Lower bound = -27725.887222397814\n",
      "Step 542: Lower bound = -27725.887222397814\n",
      "Step 543: Lower bound = -27725.887222397814\n",
      "Step 544: Lower bound = -27725.887222397814\n",
      "Step 545: Lower bound = -27725.887222397814\n",
      "Step 546: Lower bound = -27725.887222397814\n",
      "Step 547: Lower bound = -27725.887222397814\n",
      "Step 548: Lower bound = -27725.887222397814\n",
      "Step 549: Lower bound = -27725.887222397814\n",
      "Step 550: Lower bound = -27725.887222397814\n",
      "Step 551: Lower bound = -27725.887222397814\n",
      "Step 552: Lower bound = -27725.887222397814\n",
      "Step 553: Lower bound = -27725.887222397814\n",
      "Step 554: Lower bound = -27725.887222397814\n",
      "Step 555: Lower bound = -27725.887222397814\n",
      "Step 556: Lower bound = -27725.887222397814\n",
      "Step 557: Lower bound = -27725.887222397814\n",
      "Step 558: Lower bound = -27725.887222397814\n",
      "Step 559: Lower bound = -27725.887222397814\n",
      "Step 560: Lower bound = -27725.887222397814\n",
      "Step 561: Lower bound = -27725.887222397814\n",
      "Step 562: Lower bound = -27725.887222397814\n",
      "Step 563: Lower bound = -27725.887222397814\n",
      "Step 564: Lower bound = -27725.887222397814\n",
      "Step 565: Lower bound = -27725.887222397814\n",
      "Step 566: Lower bound = -27725.887222397814\n",
      "Step 567: Lower bound = -27725.887222397814\n",
      "Step 568: Lower bound = -27725.887222397814\n",
      "Step 569: Lower bound = -27725.887222397814\n",
      "Step 570: Lower bound = -27725.887222397814\n",
      "Step 571: Lower bound = -27725.887222397814\n",
      "Step 572: Lower bound = -27725.887222397814\n",
      "Step 573: Lower bound = -27725.887222397814\n",
      "Step 574: Lower bound = -27725.887222397814\n",
      "Step 575: Lower bound = -27725.887222397814\n",
      "Step 576: Lower bound = -27725.887222397814\n",
      "Step 577: Lower bound = -27725.887222397814\n",
      "Step 578: Lower bound = -27725.887222397814\n",
      "Step 579: Lower bound = -27725.887222397814\n",
      "Step 580: Lower bound = -27725.887222397814\n",
      "Step 581: Lower bound = -27725.887222397814\n",
      "Step 582: Lower bound = -27725.887222397814\n",
      "Step 583: Lower bound = -27725.887222397814\n",
      "Step 584: Lower bound = -27725.887222397814\n",
      "Step 585: Lower bound = -27725.887222397814\n",
      "Step 586: Lower bound = -27725.887222397814\n",
      "Step 587: Lower bound = -27725.887222397814\n",
      "Step 588: Lower bound = -27725.887222397814\n",
      "Step 589: Lower bound = -27725.887222397814\n",
      "Step 590: Lower bound = -27725.887222397814\n",
      "Step 591: Lower bound = -27725.887222397814\n",
      "Step 592: Lower bound = -27725.887222397814\n",
      "Step 593: Lower bound = -27725.887222397814\n",
      "Step 594: Lower bound = -27725.887222397814\n",
      "Step 595: Lower bound = -27725.887222397814\n",
      "Step 596: Lower bound = -27725.887222397814\n",
      "Step 597: Lower bound = -27725.887222397814\n",
      "Step 598: Lower bound = -27725.887222397814\n",
      "Step 599: Lower bound = -27725.887222397814\n",
      "Step 600: Lower bound = -27725.887222397814\n",
      "Step 601: Lower bound = -27725.887222397814\n",
      "Step 602: Lower bound = -27725.887222397814\n",
      "Step 603: Lower bound = -27725.887222397814\n",
      "Step 604: Lower bound = -27725.887222397814\n",
      "Step 605: Lower bound = -27725.887222397814\n",
      "Step 606: Lower bound = -27725.887222397814\n",
      "Step 607: Lower bound = -27725.887222397814\n",
      "Step 608: Lower bound = -27725.887222397814\n",
      "Step 609: Lower bound = -27725.887222397814\n",
      "Step 610: Lower bound = -27725.887222397814\n",
      "Step 611: Lower bound = -27725.887222397814\n",
      "Step 612: Lower bound = -27725.887222397814\n",
      "Step 613: Lower bound = -27725.887222397814\n",
      "Step 614: Lower bound = -27725.887222397814\n",
      "Step 615: Lower bound = -27725.887222397814\n",
      "Step 616: Lower bound = -27725.887222397814\n",
      "Step 617: Lower bound = -27725.887222397814\n",
      "Step 618: Lower bound = -27725.887222397814\n",
      "Step 619: Lower bound = -27725.887222397814\n",
      "Step 620: Lower bound = -27725.887222397814\n",
      "Step 621: Lower bound = -27725.887222397814\n",
      "Step 622: Lower bound = -27725.887222397814\n",
      "Step 623: Lower bound = -27725.887222397814\n",
      "Step 624: Lower bound = -27725.887222397814\n",
      "Step 625: Lower bound = -27725.887222397814\n",
      "Step 626: Lower bound = -27725.887222397814\n",
      "Step 627: Lower bound = -27725.887222397814\n",
      "Step 628: Lower bound = -27725.887222397814\n",
      "Step 629: Lower bound = -27725.887222397814\n",
      "Step 630: Lower bound = -27725.887222397814\n",
      "Step 631: Lower bound = -27725.887222397814\n",
      "Step 632: Lower bound = -27725.887222397814\n",
      "Step 633: Lower bound = -27725.887222397814\n",
      "Step 634: Lower bound = -27725.887222397814\n",
      "Step 635: Lower bound = -27725.887222397814\n",
      "Step 636: Lower bound = -27725.887222397814\n",
      "Step 637: Lower bound = -27725.887222397814\n",
      "Step 638: Lower bound = -27725.887222397814\n",
      "Step 639: Lower bound = -27725.887222397814\n",
      "Step 640: Lower bound = -27725.887222397814\n",
      "Step 641: Lower bound = -27725.887222397814\n",
      "Step 642: Lower bound = -27725.887222397814\n",
      "Step 643: Lower bound = -27725.887222397814\n",
      "Step 644: Lower bound = -27725.887222397814\n",
      "Step 645: Lower bound = -27725.887222397814\n",
      "Step 646: Lower bound = -27725.887222397814\n",
      "Step 647: Lower bound = -27725.887222397814\n",
      "Step 648: Lower bound = -27725.887222397814\n",
      "Step 649: Lower bound = -27725.887222397814\n",
      "Step 650: Lower bound = -27725.887222397814\n",
      "Step 651: Lower bound = -27725.887222397814\n",
      "Step 652: Lower bound = -27725.887222397814\n",
      "Step 653: Lower bound = -27725.887222397814\n",
      "Step 654: Lower bound = -27725.887222397814\n",
      "Step 655: Lower bound = -27725.887222397814\n",
      "Step 656: Lower bound = -27725.887222397814\n",
      "Step 657: Lower bound = -27725.887222397814\n",
      "Step 658: Lower bound = -27725.887222397814\n",
      "Step 659: Lower bound = -27725.887222397814\n",
      "Step 660: Lower bound = -27725.887222397814\n",
      "Step 661: Lower bound = -27725.887222397814\n",
      "Step 662: Lower bound = -27725.887222397814\n",
      "Step 663: Lower bound = -27725.887222397814\n",
      "Step 664: Lower bound = -27725.887222397814\n",
      "Step 665: Lower bound = -27725.887222397814\n",
      "Step 666: Lower bound = -27725.887222397814\n",
      "Step 667: Lower bound = -27725.887222397814\n",
      "Step 668: Lower bound = -27725.887222397814\n",
      "Step 669: Lower bound = -27725.887222397814\n",
      "Step 670: Lower bound = -27725.887222397814\n",
      "Step 671: Lower bound = -27725.887222397814\n",
      "Step 672: Lower bound = -27725.887222397814\n",
      "Step 673: Lower bound = -27725.887222397814\n",
      "Step 674: Lower bound = -27725.887222397814\n",
      "Step 675: Lower bound = -27725.887222397814\n",
      "Step 676: Lower bound = -27725.887222397814\n",
      "Step 677: Lower bound = -27725.887222397814\n",
      "Step 678: Lower bound = -27725.887222397814\n",
      "Step 679: Lower bound = -27725.887222397814\n",
      "Step 680: Lower bound = -27725.887222397814\n",
      "Step 681: Lower bound = -27725.887222397814\n",
      "Step 682: Lower bound = -27725.887222397814\n",
      "Step 683: Lower bound = -27725.887222397814\n",
      "Step 684: Lower bound = -27725.887222397814\n",
      "Step 685: Lower bound = -27725.887222397814\n",
      "Step 686: Lower bound = -27725.887222397814\n",
      "Step 687: Lower bound = -27725.887222397814\n",
      "Step 688: Lower bound = -27725.887222397814\n",
      "Step 689: Lower bound = -27725.887222397814\n",
      "Step 690: Lower bound = -27725.887222397814\n",
      "Step 691: Lower bound = -27725.887222397814\n",
      "Step 692: Lower bound = -27725.887222397814\n",
      "Step 693: Lower bound = -27725.887222397814\n",
      "Step 694: Lower bound = -27725.887222397814\n",
      "Step 695: Lower bound = -27725.887222397814\n",
      "Step 696: Lower bound = -27725.887222397814\n",
      "Step 697: Lower bound = -27725.887222397814\n",
      "Step 698: Lower bound = -27725.887222397814\n",
      "Step 699: Lower bound = -27725.887222397814\n",
      "Step 700: Lower bound = -27725.887222397814\n",
      "Step 701: Lower bound = -27725.887222397814\n",
      "Step 702: Lower bound = -27725.887222397814\n",
      "Step 703: Lower bound = -27725.887222397814\n",
      "Step 704: Lower bound = -27725.887222397814\n",
      "Step 705: Lower bound = -27725.887222397814\n",
      "Step 706: Lower bound = -27725.887222397814\n",
      "Step 707: Lower bound = -27725.887222397814\n",
      "Step 708: Lower bound = -27725.887222397814\n",
      "Step 709: Lower bound = -27725.887222397814\n",
      "Step 710: Lower bound = -27725.887222397814\n",
      "Step 711: Lower bound = -27725.887222397814\n",
      "Step 712: Lower bound = -27725.887222397814\n",
      "Step 713: Lower bound = -27725.887222397814\n",
      "Step 714: Lower bound = -27725.887222397814\n",
      "Step 715: Lower bound = -27725.887222397814\n",
      "Step 716: Lower bound = -27725.887222397814\n",
      "Step 717: Lower bound = -27725.887222397814\n",
      "Step 718: Lower bound = -27725.887222397814\n",
      "Step 719: Lower bound = -27725.887222397814\n",
      "Step 720: Lower bound = -27725.887222397814\n",
      "Step 721: Lower bound = -27725.887222397814\n",
      "Step 722: Lower bound = -27725.887222397814\n",
      "Step 723: Lower bound = -27725.887222397814\n",
      "Step 724: Lower bound = -27725.887222397814\n",
      "Step 725: Lower bound = -27725.887222397814\n",
      "Step 726: Lower bound = -27725.887222397814\n",
      "Step 727: Lower bound = -27725.887222397814\n",
      "Step 728: Lower bound = -27725.887222397814\n",
      "Step 729: Lower bound = -27725.887222397814\n",
      "Step 730: Lower bound = -27725.887222397814\n",
      "Step 731: Lower bound = -27725.887222397814\n",
      "Step 732: Lower bound = -27725.887222397814\n",
      "Step 733: Lower bound = -27725.887222397814\n",
      "Step 734: Lower bound = -27725.887222397814\n",
      "Step 735: Lower bound = -27725.887222397814\n",
      "Step 736: Lower bound = -27725.887222397814\n",
      "Step 737: Lower bound = -27725.887222397814\n",
      "Step 738: Lower bound = -27725.887222397814\n",
      "Step 739: Lower bound = -27725.887222397814\n",
      "Step 740: Lower bound = -27725.887222397814\n",
      "Step 741: Lower bound = -27725.887222397814\n",
      "Step 742: Lower bound = -27725.887222397814\n",
      "Step 743: Lower bound = -27725.887222397814\n",
      "Step 744: Lower bound = -27725.887222397814\n",
      "Step 745: Lower bound = -27725.887222397814\n",
      "Step 746: Lower bound = -27725.887222397814\n",
      "Step 747: Lower bound = -27725.887222397814\n",
      "Step 748: Lower bound = -27725.887222397814\n",
      "Step 749: Lower bound = -27725.887222397814\n",
      "Step 750: Lower bound = -27725.887222397814\n",
      "Step 751: Lower bound = -27725.887222397814\n",
      "Step 752: Lower bound = -27725.887222397814\n",
      "Step 753: Lower bound = -27725.887222397814\n",
      "Step 754: Lower bound = -27725.887222397814\n",
      "Step 755: Lower bound = -27725.887222397814\n",
      "Step 756: Lower bound = -27725.887222397814\n",
      "Step 757: Lower bound = -27725.887222397814\n",
      "Step 758: Lower bound = -27725.887222397814\n",
      "Step 759: Lower bound = -27725.887222397814\n",
      "Step 760: Lower bound = -27725.887222397814\n",
      "Step 761: Lower bound = -27725.887222397814\n",
      "Step 762: Lower bound = -27725.887222397814\n",
      "Step 763: Lower bound = -27725.887222397814\n",
      "Step 764: Lower bound = -27725.887222397814\n",
      "Step 765: Lower bound = -27725.887222397814\n",
      "Step 766: Lower bound = -27725.887222397814\n",
      "Step 767: Lower bound = -27725.887222397814\n",
      "Step 768: Lower bound = -27725.887222397814\n",
      "Step 769: Lower bound = -27725.887222397814\n",
      "Step 770: Lower bound = -27725.887222397814\n",
      "Step 771: Lower bound = -27725.887222397814\n",
      "Step 772: Lower bound = -27725.887222397814\n",
      "Step 773: Lower bound = -27725.887222397814\n",
      "Step 774: Lower bound = -27725.887222397814\n",
      "Step 775: Lower bound = -27725.887222397814\n",
      "Step 776: Lower bound = -27725.887222397814\n",
      "Step 777: Lower bound = -27725.887222397814\n",
      "Step 778: Lower bound = -27725.887222397814\n",
      "Step 779: Lower bound = -27725.887222397814\n",
      "Step 780: Lower bound = -27725.887222397814\n",
      "Step 781: Lower bound = -27725.887222397814\n",
      "Step 782: Lower bound = -27725.887222397814\n",
      "Step 783: Lower bound = -27725.887222397814\n",
      "Step 784: Lower bound = -27725.887222397814\n",
      "Step 785: Lower bound = -27725.887222397814\n",
      "Step 786: Lower bound = -27725.887222397814\n",
      "Step 787: Lower bound = -27725.887222397814\n",
      "Step 788: Lower bound = -27725.887222397814\n",
      "Step 789: Lower bound = -27725.887222397814\n",
      "Step 790: Lower bound = -27725.887222397814\n",
      "Step 791: Lower bound = -27725.887222397814\n",
      "Step 792: Lower bound = -27725.887222397814\n",
      "Step 793: Lower bound = -27725.887222397814\n",
      "Step 794: Lower bound = -27725.887222397814\n",
      "Step 795: Lower bound = -27725.887222397814\n",
      "Step 796: Lower bound = -27725.887222397814\n",
      "Step 797: Lower bound = -27725.887222397814\n",
      "Step 798: Lower bound = -27725.887222397814\n",
      "Step 799: Lower bound = -27725.887222397814\n",
      "Step 800: Lower bound = -27725.887222397814\n",
      "Step 801: Lower bound = -27725.887222397814\n",
      "Step 802: Lower bound = -27725.887222397814\n",
      "Step 803: Lower bound = -27725.887222397814\n",
      "Step 804: Lower bound = -27725.887222397814\n",
      "Step 805: Lower bound = -27725.887222397814\n",
      "Step 806: Lower bound = -27725.887222397814\n",
      "Step 807: Lower bound = -27725.887222397814\n",
      "Step 808: Lower bound = -27725.887222397814\n",
      "Step 809: Lower bound = -27725.887222397814\n",
      "Step 810: Lower bound = -27725.887222397814\n",
      "Step 811: Lower bound = -27725.887222397814\n",
      "Step 812: Lower bound = -27725.887222397814\n",
      "Step 813: Lower bound = -27725.887222397814\n",
      "Step 814: Lower bound = -27725.887222397814\n",
      "Step 815: Lower bound = -27725.887222397814\n",
      "Step 816: Lower bound = -27725.887222397814\n",
      "Step 817: Lower bound = -27725.887222397814\n",
      "Step 818: Lower bound = -27725.887222397814\n",
      "Step 819: Lower bound = -27725.887222397814\n",
      "Step 820: Lower bound = -27725.887222397814\n",
      "Step 821: Lower bound = -27725.887222397814\n",
      "Step 822: Lower bound = -27725.887222397814\n",
      "Step 823: Lower bound = -27725.887222397814\n",
      "Step 824: Lower bound = -27725.887222397814\n",
      "Step 825: Lower bound = -27725.887222397814\n",
      "Step 826: Lower bound = -27725.887222397814\n",
      "Step 827: Lower bound = -27725.887222397814\n",
      "Step 828: Lower bound = -27725.887222397814\n",
      "Step 829: Lower bound = -27725.887222397814\n",
      "Step 830: Lower bound = -27725.887222397814\n",
      "Step 831: Lower bound = -27725.887222397814\n",
      "Step 832: Lower bound = -27725.887222397814\n",
      "Step 833: Lower bound = -27725.887222397814\n",
      "Step 834: Lower bound = -27725.887222397814\n",
      "Step 835: Lower bound = -27725.887222397814\n",
      "Step 836: Lower bound = -27725.887222397814\n",
      "Step 837: Lower bound = -27725.887222397814\n",
      "Step 838: Lower bound = -27725.887222397814\n",
      "Step 839: Lower bound = -27725.887222397814\n",
      "Step 840: Lower bound = -27725.887222397814\n",
      "Step 841: Lower bound = -27725.887222397814\n",
      "Step 842: Lower bound = -27725.887222397814\n",
      "Step 843: Lower bound = -27725.887222397814\n",
      "Step 844: Lower bound = -27725.887222397814\n",
      "Step 845: Lower bound = -27725.887222397814\n",
      "Step 846: Lower bound = -27725.887222397814\n",
      "Step 847: Lower bound = -27725.887222397814\n",
      "Step 848: Lower bound = -27725.887222397814\n",
      "Step 849: Lower bound = -27725.887222397814\n",
      "Step 850: Lower bound = -27725.887222397814\n",
      "Step 851: Lower bound = -27725.887222397814\n",
      "Step 852: Lower bound = -27725.887222397814\n",
      "Step 853: Lower bound = -27725.887222397814\n",
      "Step 854: Lower bound = -27725.887222397814\n",
      "Step 855: Lower bound = -27725.887222397814\n",
      "Step 856: Lower bound = -27725.887222397814\n",
      "Step 857: Lower bound = -27725.887222397814\n",
      "Step 858: Lower bound = -27725.887222397814\n",
      "Step 859: Lower bound = -27725.887222397814\n",
      "Step 860: Lower bound = -27725.887222397814\n",
      "Step 861: Lower bound = -27725.887222397814\n",
      "Step 862: Lower bound = -27725.887222397814\n",
      "Step 863: Lower bound = -27725.887222397814\n",
      "Step 864: Lower bound = -27725.887222397814\n",
      "Step 865: Lower bound = -27725.887222397814\n",
      "Step 866: Lower bound = -27725.887222397814\n",
      "Step 867: Lower bound = -27725.887222397814\n",
      "Step 868: Lower bound = -27725.887222397814\n",
      "Step 869: Lower bound = -27725.887222397814\n",
      "Step 870: Lower bound = -27725.887222397814\n",
      "Step 871: Lower bound = -27725.887222397814\n",
      "Step 872: Lower bound = -27725.887222397814\n",
      "Step 873: Lower bound = -27725.887222397814\n",
      "Step 874: Lower bound = -27725.887222397814\n",
      "Step 875: Lower bound = -27725.887222397814\n",
      "Step 876: Lower bound = -27725.887222397814\n",
      "Step 877: Lower bound = -27725.887222397814\n",
      "Step 878: Lower bound = -27725.887222397814\n",
      "Step 879: Lower bound = -27725.887222397814\n",
      "Step 880: Lower bound = -27725.887222397814\n",
      "Step 881: Lower bound = -27725.887222397814\n",
      "Step 882: Lower bound = -27725.887222397814\n",
      "Step 883: Lower bound = -27725.887222397814\n",
      "Step 884: Lower bound = -27725.887222397814\n",
      "Step 885: Lower bound = -27725.887222397814\n",
      "Step 886: Lower bound = -27725.887222397814\n",
      "Step 887: Lower bound = -27725.887222397814\n",
      "Step 888: Lower bound = -27725.887222397814\n",
      "Step 889: Lower bound = -27725.887222397814\n",
      "Step 890: Lower bound = -27725.887222397814\n",
      "Step 891: Lower bound = -27725.887222397814\n",
      "Step 892: Lower bound = -27725.887222397814\n",
      "Step 893: Lower bound = -27725.887222397814\n",
      "Step 894: Lower bound = -27725.887222397814\n",
      "Step 895: Lower bound = -27725.887222397814\n",
      "Step 896: Lower bound = -27725.887222397814\n",
      "Step 897: Lower bound = -27725.887222397814\n",
      "Step 898: Lower bound = -27725.887222397814\n",
      "Step 899: Lower bound = -27725.887222397814\n",
      "Step 900: Lower bound = -27725.887222397814\n",
      "Step 901: Lower bound = -27725.887222397814\n",
      "Step 902: Lower bound = -27725.887222397814\n",
      "Step 903: Lower bound = -27725.887222397814\n",
      "Step 904: Lower bound = -27725.887222397814\n",
      "Step 905: Lower bound = -27725.887222397814\n",
      "Step 906: Lower bound = -27725.887222397814\n",
      "Step 907: Lower bound = -27725.887222397814\n",
      "Step 908: Lower bound = -27725.887222397814\n",
      "Step 909: Lower bound = -27725.887222397814\n",
      "Step 910: Lower bound = -27725.887222397814\n",
      "Step 911: Lower bound = -27725.887222397814\n",
      "Step 912: Lower bound = -27725.887222397814\n",
      "Step 913: Lower bound = -27725.887222397814\n",
      "Step 914: Lower bound = -27725.887222397814\n",
      "Step 915: Lower bound = -27725.887222397814\n",
      "Step 916: Lower bound = -27725.887222397814\n",
      "Step 917: Lower bound = -27725.887222397814\n",
      "Step 918: Lower bound = -27725.887222397814\n",
      "Step 919: Lower bound = -27725.887222397814\n",
      "Step 920: Lower bound = -27725.887222397814\n",
      "Step 921: Lower bound = -27725.887222397814\n",
      "Step 922: Lower bound = -27725.887222397814\n",
      "Step 923: Lower bound = -27725.887222397814\n",
      "Step 924: Lower bound = -27725.887222397814\n",
      "Step 925: Lower bound = -27725.887222397814\n",
      "Step 926: Lower bound = -27725.887222397814\n",
      "Step 927: Lower bound = -27725.887222397814\n",
      "Step 928: Lower bound = -27725.887222397814\n",
      "Step 929: Lower bound = -27725.887222397814\n",
      "Step 930: Lower bound = -27725.887222397814\n",
      "Step 931: Lower bound = -27725.887222397814\n",
      "Step 932: Lower bound = -27725.887222397814\n",
      "Step 933: Lower bound = -27725.887222397814\n",
      "Step 934: Lower bound = -27725.887222397814\n",
      "Step 935: Lower bound = -27725.887222397814\n",
      "Step 936: Lower bound = -27725.887222397814\n",
      "Step 937: Lower bound = -27725.887222397814\n",
      "Step 938: Lower bound = -27725.887222397814\n",
      "Step 939: Lower bound = -27725.887222397814\n",
      "Step 940: Lower bound = -27725.887222397814\n",
      "Step 941: Lower bound = -27725.887222397814\n",
      "Step 942: Lower bound = -27725.887222397814\n",
      "Step 943: Lower bound = -27725.887222397814\n",
      "Step 944: Lower bound = -27725.887222397814\n",
      "Step 945: Lower bound = -27725.887222397814\n",
      "Step 946: Lower bound = -27725.887222397814\n",
      "Step 947: Lower bound = -27725.887222397814\n",
      "Step 948: Lower bound = -27725.887222397814\n",
      "Step 949: Lower bound = -27725.887222397814\n",
      "Step 950: Lower bound = -27725.887222397814\n",
      "Step 951: Lower bound = -27725.887222397814\n",
      "Step 952: Lower bound = -27725.887222397814\n",
      "Step 953: Lower bound = -27725.887222397814\n",
      "Step 954: Lower bound = -27725.887222397814\n",
      "Step 955: Lower bound = -27725.887222397814\n",
      "Step 956: Lower bound = -27725.887222397814\n",
      "Step 957: Lower bound = -27725.887222397814\n",
      "Step 958: Lower bound = -27725.887222397814\n",
      "Step 959: Lower bound = -27725.887222397814\n",
      "Step 960: Lower bound = -27725.887222397814\n",
      "Step 961: Lower bound = -27725.887222397814\n",
      "Step 962: Lower bound = -27725.887222397814\n",
      "Step 963: Lower bound = -27725.887222397814\n",
      "Step 964: Lower bound = -27725.887222397814\n",
      "Step 965: Lower bound = -27725.887222397814\n",
      "Step 966: Lower bound = -27725.887222397814\n",
      "Step 967: Lower bound = -27725.887222397814\n",
      "Step 968: Lower bound = -27725.887222397814\n",
      "Step 969: Lower bound = -27725.887222397814\n",
      "Step 970: Lower bound = -27725.887222397814\n",
      "Step 971: Lower bound = -27725.887222397814\n",
      "Step 972: Lower bound = -27725.887222397814\n",
      "Step 973: Lower bound = -27725.887222397814\n",
      "Step 974: Lower bound = -27725.887222397814\n",
      "Step 975: Lower bound = -27725.887222397814\n",
      "Step 976: Lower bound = -27725.887222397814\n",
      "Step 977: Lower bound = -27725.887222397814\n",
      "Step 978: Lower bound = -27725.887222397814\n",
      "Step 979: Lower bound = -27725.887222397814\n",
      "Step 980: Lower bound = -27725.887222397814\n",
      "Step 981: Lower bound = -27725.887222397814\n",
      "Step 982: Lower bound = -27725.887222397814\n",
      "Step 983: Lower bound = -27725.887222397814\n",
      "Step 984: Lower bound = -27725.887222397814\n",
      "Step 985: Lower bound = -27725.887222397814\n",
      "Step 986: Lower bound = -27725.887222397814\n",
      "Step 987: Lower bound = -27725.887222397814\n",
      "Step 988: Lower bound = -27725.887222397814\n",
      "Step 989: Lower bound = -27725.887222397814\n",
      "Step 990: Lower bound = -27725.887222397814\n",
      "Step 991: Lower bound = -27725.887222397814\n",
      "Step 992: Lower bound = -27725.887222397814\n",
      "Step 993: Lower bound = -27725.887222397814\n",
      "Step 994: Lower bound = -27725.887222397814\n",
      "Step 995: Lower bound = -27725.887222397814\n",
      "Step 996: Lower bound = -27725.887222397814\n",
      "Step 997: Lower bound = -27725.887222397814\n",
      "Step 998: Lower bound = -27725.887222397814\n",
      "Step 999: Lower bound = -27725.887222397814\n"
     ]
    }
   ],
   "source": [
    "alpha_em, logbeta_em, q_em, lower_bound_list = em(L=L, n_steps=1000, lr=1e-3)"
   ]
  },
  {
   "cell_type": "code",
   "execution_count": 20,
   "metadata": {},
   "outputs": [
    {
     "data": {
      "image/png": "[encoded data removed]",
      "text/plain": [
       "<Figure size 700x500 with 1 Axes>"
      ]
     },
     "metadata": {},
     "output_type": "display_data"
    }
   ],
   "source": [
    "import matplotlib.pyplot as plt\n",
    "\n",
    "plt.figure(figsize=(7, 5))\n",
    "plt.plot(np.arange(1, len(lower_bound_list) + 1), lower_bound_list)\n",
    "plt.show()"
   ]
  },
  {
   "cell_type": "markdown",
   "metadata": {
    "pycharm": {
     "name": "#%% md\n"
    }
   },
   "source": [
    "**Задание 2. (1 балл)** Загрузите настоящую разметку. Посчитайте `accuracy` разметки, полученной с помощью обычного голосования по большинству среди экспертов, и сравните его с качеством, полученным с помощью EM-алгоритма. Помните, что алгоритму не важно, какая метка 0, а какая 1, поэтому если получите качество <0.5, то просто поменяйте метки классов (не забудьте также поменять знак у $\\alpha$). "
   ]
  },
  {
   "cell_type": "code",
   "execution_count": 14,
   "metadata": {
    "pycharm": {
     "name": "#%%\n"
    }
   },
   "outputs": [],
   "source": [
    "y = np.load('y.npy')\n",
    "from scipy.stats import mode\n",
    "\n",
    "# (∩ ￣ー￣)⊃ ✳✨✳✨✳✨✳"
   ]
  },
  {
   "cell_type": "code",
   "execution_count": 15,
   "metadata": {},
   "outputs": [],
   "source": [
    "# предсказания по большинству среди экспертов\n",
    "majority_voting_predictions = mode(L, axis=1)[0]\n",
    "voting_accuracy = np.mean(majority_voting_predictions == y)"
   ]
  },
  {
   "cell_type": "code",
   "execution_count": 22,
   "metadata": {},
   "outputs": [
    {
     "name": "stdout",
     "output_type": "stream",
     "text": [
      "[[0.5 0.5 0.5 ... 0.5 0.5 0.5]\n",
      " [0.5 0.5 0.5 ... 0.5 0.5 0.5]]\n"
     ]
    }
   ],
   "source": [
    "print(q_em)"
   ]
  },
  {
   "cell_type": "code",
   "execution_count": 17,
   "metadata": {},
   "outputs": [],
   "source": [
    "# выбор класса с наибольшей вероятностью\n",
    "em_predictions = np.argmax(q_em, axis=0)\n",
    "em_accuracy = np.mean(em_predictions == y)"
   ]
  },
  {
   "cell_type": "code",
   "execution_count": 18,
   "metadata": {},
   "outputs": [
    {
     "name": "stdout",
     "output_type": "stream",
     "text": [
      "Accuracy с помощью голосования по большинству среди экспертов: 0.904\n",
      "Accuracy с помощью EM-алгоритма: 0.5045\n"
     ]
    }
   ],
   "source": [
    "print(\"Accuracy с помощью голосования по большинству среди экспертов:\", voting_accuracy)\n",
    "print(\"Accuracy с помощью EM-алгоритма:\", em_accuracy)"
   ]
  },
  {
   "cell_type": "markdown",
   "metadata": {
    "pycharm": {
     "name": "#%% md\n"
    }
   },
   "source": [
    "**Задание 3. (0.5 балла)** Попробуйте проинтерпретировать полученные коэфициенты $\\alpha$. Есть ли в выборке эксперты, которые намеренно голосуют неверно? Как это можно понять по альфам? Продемонстрируйте, что эксперты действительно чаще голосуют за неверный класс. Постройте график зависимости доли врено размеченных экспертом объектов от коэффициента $\\alpha$. Прокомментируйте результаты."
   ]
  },
  {
   "cell_type": "code",
   "execution_count": null,
   "metadata": {},
   "outputs": [],
   "source": []
  },
  {
   "cell_type": "code",
   "execution_count": null,
   "metadata": {
    "pycharm": {
     "name": "#%%\n"
    }
   },
   "outputs": [],
   "source": [
    "# (∩ᄑ_ᄑ)⊃━☆ﾟ*･｡*"
   ]
  },
  {
   "cell_type": "markdown",
   "metadata": {
    "pycharm": {
     "name": "#%% md\n"
    }
   },
   "source": [
    "**Задание 4. (бонус, 2 балла)**  Как уже было замечено выше, модели не важно, какой класс 1, а какой 0. Скажем, если все эксперты оказались максимально противными и ставят метку с точностью наоборот, то у вас будет полная согласованность между экспертами, при этом невозможно понять правильно они разметили выборку или нет, смотря только на такую разметку. Чтобы избежать этого, можно включать в выборку вопрос с заведомо известным ответом, тогда вы сможете определить, ставит ли эксперт специально неверные метки.\n",
    "\n",
    "Чтобы обощить данную модель на случай заданий с заведомо известной меткой, достоточно не делать для них E-шаг, а всегда полагать апостериорное распределение вырожденным в истинном классе. Реализуйте данную модель и используйте истинную разметку *для нескольких* задач из обучения. Проинтерпретируйте полученные результаты."
   ]
  },
  {
   "cell_type": "markdown",
   "metadata": {
    "pycharm": {
     "name": "#%% md\n"
    }
   },
   "source": [
    "# Выравнивание слов (Word Alignment)"
   ]
  },
  {
   "cell_type": "markdown",
   "metadata": {
    "pycharm": {
     "name": "#%% md\n"
    }
   },
   "source": [
    "EM-алгоритм также применяют на практике для настройки параметров модели выравнивания слов, более сложные модификации которой используются в статистическом машинном переводе. Мы не будем подробно обсуждать применение word alignment для перевода и ограничимся следующей целью: пусть у нас есть параллельный корпус из предложений на исходном языке и их переводов на целевой язык (в этом задании используются английский и чешский соответственно). \n",
    "\n",
    "Первая задача — определить с помощью этого корпуса, как переводится каждое отдельное слово на целевом языке. Вторая задача — для произвольной пары из предложения и его перевода установить, переводом какого слова в исходном предложении является каждое слово в целевом предложении. Оказывается, у обеих задач существует элегантное и эффективное решение при введении правильной вероятностной модели: в этой части задания вам предстоит его реализовать и оценить результаты работы. Но обо всём по порядку :)\n",
    "\n",
    "---\n",
    "\n",
    "Перед тем, как заниматься машинным обучением, давайте разберёмся с данными и метриками в интересующей нас задаче. В ячейке ниже загружается и разархивируется параллельный английско-чешский корпус, в котором есть разметка выравнивания слов. Нетрудно заметить, что формат XML-файла, использованный его авторами, не вполне стандартный: нет готовой команды , которая позволила бы получить список пар предложений вместе с выравниваниями. Это значит, что нужно разобраться с форматом и написать парсер самостоятельно, используя встроенные средства Python, например, модуль [xml](https://docs.python.org/3.7/library/xml.html)."
   ]
  },
  {
   "cell_type": "code",
   "execution_count": null,
   "metadata": {
    "pycharm": {
     "name": "#%%\n"
    }
   },
   "outputs": [],
   "source": [
    "%%bash\n",
    "wget -q https://lindat.mff.cuni.cz/repository/xmlui/bitstream/handle/11234/1-1804/CzEnAli_1.0.tar.gz -O CzEnAli_1.0.tar.gz\n",
    "mkdir -p data\n",
    "tar -xzf CzEnAli_1.0.tar.gz -C data/\n",
    "head -n 20 data/merged_data/project_syndicate/project_syndicate_bacchetta1.wa"
   ]
  },
  {
   "cell_type": "markdown",
   "metadata": {
    "pycharm": {
     "name": "#%% md\n"
    }
   },
   "source": [
    "**Задание -2. (0.5 балла)** Реализуйте функцию `extract_sentences`, которая принимает на вход путь к файлу с XML-разметкой, используемой в этом датасете, и возвращает список параллельных предложений, а также список из «уверенных» (sure) и «возможных» (possible) пар выравниваний. Отправьте вашу реализацию в Яндекс.Контест, чтобы убедиться в её корректности; в следующей ячейке ноутбука соберите все пары размеченных предложений из датасета в два списка `all_sentences` (список `SentencePair`) и `all_targets` (список LabeledAlignment).\n",
    "\n",
    "Здесь и далее соблюдайте сигнатуры функций и пользуйтесь объявленными в модуле `preprocessing.py` классами для организации данных. Стоит заметить, что предложения уже токенизированы (даже отделена пунктуация), поэтому предобработку текстов совершать не нужно. Обратите внимание на формат хранения выравниваний: нумерация начинается с 1 (в таком виде и нужно сохранять), первым в паре идёт слово из англоязычного предложения."
   ]
  },
  {
   "cell_type": "code",
   "execution_count": null,
   "metadata": {
    "pycharm": {
     "name": "#%%\n"
    }
   },
   "outputs": [],
   "source": [
    "import glob\n",
    "from preprocessing import extract_sentences\n",
    "\n",
    "all_sentences = []\n",
    "all_targets = []\n",
    "# (´◕▽◕)⊃━☆"
   ]
  },
  {
   "cell_type": "markdown",
   "metadata": {
    "pycharm": {
     "name": "#%% md\n"
    }
   },
   "source": [
    "**Задание -1. (0.5 балла)** Реализуйте функции `get_token_to_index` и `tokenize_sents` из модуля `preprocessing.py`, постройте словари token->index для обоих языков и постройте список из `TokenizedSentencePair` по выборке. Реализации функций также отправьте в Яндекс.Контест."
   ]
  },
  {
   "cell_type": "code",
   "execution_count": null,
   "metadata": {
    "pycharm": {
     "name": "#%%\n"
    }
   },
   "outputs": [],
   "source": [
    "from preprocessing import get_token_to_index, tokenize_sents\n",
    "\n",
    "t_idx_src, t_idx_tgt = get_token_to_index(all_sentences)\n",
    "tokenized_sentences = tokenize_sents(all_sentences, t_idx_src, t_idx_tgt)"
   ]
  },
  {
   "cell_type": "markdown",
   "metadata": {
    "pycharm": {
     "name": "#%% md\n"
    }
   },
   "source": [
    "В качестве бейзлайна для этой задачи мы возьмём способ выравнивания слов по коэффициенту Дайса: слово в исходном языке является переводом слова на целевом языке, если они часто встречаются в одних и тех же предложениях и редко встречаются по отдельности. \n",
    "\n",
    "Математически это записывается по аналогии с мерой Жаккара: пусть $c(x,y)$ — число параллельных предложений, в которых есть и $x$ (на исходном языке), и $y$ (на целевом языке), а $c(x)$ и $c(y)$ — суммарное количество предложений, в которых встречается слово $x$ и $y$ соответственно. Тогда $\\textrm{Dice}(x,y)=\\frac{2 \\cdot c(x,y)}{c(x) + c(y)}$ — характеристика «похожести» слов $x$ и $y$. Она равна 1, если слова встречаются только в контексте друг друга (не бывает предложений только со словом $x$ без $y$ в переводе и наоборот), равна 0, если слова никогда не встречаются в параллельных предложениях и находится между пороговыми значениями в остальных случаях.\n",
    "\n",
    "В файле `models.py` описан абстрактный класс `BaseAligner`, наследником которого должны являться все модели в задании, а также приведён пример реализации `DiceAligner` выравнивания слов описанным выше путём. Ниже вы можете увидеть, как применять эту модель."
   ]
  },
  {
   "cell_type": "code",
   "execution_count": null,
   "metadata": {
    "pycharm": {
     "name": "#%%\n"
    }
   },
   "outputs": [],
   "source": [
    "from models import DiceAligner\n",
    "\n",
    "baseline = DiceAligner(len(t_idx_src), len(t_idx_tgt), threshold=0.01)\n",
    "baseline.fit(tokenized_sentences)"
   ]
  },
  {
   "cell_type": "markdown",
   "metadata": {
    "pycharm": {
     "name": "#%% md\n"
    }
   },
   "source": [
    "Чтобы оценить качество модели выравнивания, пользуясь имеющейся разметкой, существует ряд автоматических метрик. Они подразумевают, что в разметке есть два вида выравниваний — «уверенные» (sure) и «возможные» (possible). Обозначим для конкретного предложения первое множество выравниваний $S$, второе — $P$, а предсказанные выравнивания — $A$; причём, в отличие от разметки в файле, $S\\subseteq P$. Тогда можно предложить три метрики, используя только операции над этими множествами:\n",
    "\n",
    "Precision $=\\frac{|A\\cap P|}{|A|}$. Отражает, какая доля предсказанных нами выравниваний вообще корректна; если мы дадим в качестве ответа все возможные пары слов в предложении, эта метрика сильно просядет.\n",
    "\n",
    "Recall $=\\frac{|A\\cap S|}{|S|}$. Эта метрика показывает, какую долю «уверенных» выравниваний мы обнаружили. Если мы попытаемся сделать слишком консервативную модель, которая выдаёт 0 или 1 предсказание на нетривиальных предложениях, полнота получится крайне низкая. \n",
    "\n",
    "Alignment Error Rate (AER) $=1-\\frac{|A\\cap P|+|A\\cap S|}{|A|+|S|}$. Метрика является комбинацией двух предыдущих и отслеживает общее качество работы системы, штрафуя оба описанных выше вида нежелаемого поведения модели. \n",
    "\n",
    "**Задание 0. (0.5 балла)** Реализуйте функции compute_precision, compute_recall, compute_aer из модуля metrics.py. Оцените качество бейзлайнового метода. Обратите внимание, что нужно использовать микро-усреднение во всех функциях: необходимо просуммировать числитель и знаменатель по всем предложениям и только потом делить."
   ]
  },
  {
   "cell_type": "code",
   "execution_count": null,
   "metadata": {
    "pycharm": {
     "name": "#%%\n"
    }
   },
   "outputs": [],
   "source": [
    "from metrics import compute_aer\n",
    "\n",
    "compute_aer(all_targets,baseline.align(tokenized_sentences))"
   ]
  },
  {
   "cell_type": "markdown",
   "metadata": {
    "pycharm": {
     "name": "#%% md\n"
    }
   },
   "source": [
    "Теперь мы можем перейти к базовой вероятностной модели для выравнивания слов. Пусть $S=(s_1,\\ldots,s_n)$ исходное предложение, $T=(t_1,\\ldots,t_m)$ — его перевод. В роли латентных переменных будут выступать выравнивания $A=(a_1,\\ldots,a_m)$ каждого слова в целевом предложении, причём $a_i\\in\\{1,\\ldots,n\\}$ (считаем, что каждое слово в $t$ является переводом какого-то слова из $s$). Параметрами модели является матрица условных вероятностей перевода: каждый её элемент $\\theta(y|x)=p(y|x)$ отражает вероятность того, что переводом слова $x$ с исходного языка на целевой является слово $y$ (нормировка, соответственно, совершается по словарю целевого языка). Правдоподобие латентных переменных и предложения на целевом языке в этой модели записывается так:\n",
    "\n",
    "$$\n",
    "p(A,T|S)=\\prod_{i=1}^m p(a_i)p(t_i|a_i,S)=\\prod_{i=1}^m \\frac{1}{n}\\theta(t_i|s_{a_i}).\n",
    "$$ "
   ]
  },
  {
   "cell_type": "markdown",
   "metadata": {
    "pycharm": {
     "name": "#%% md\n"
    }
   },
   "source": [
    "**Задание 1. (2 балла)** Выведите шаги EM-алгоритма для этой модели, а также получите выражение для подсчёта нижней оценки правдоподобия ($\\mathcal{L}$ в обозначениях лекции и семинара). **Обратите внимание, что на M-шаге нужно найти аналитический максимум по параметрам.**"
   ]
  },
  {
   "cell_type": "markdown",
   "metadata": {
    "pycharm": {
     "name": "#%% md\n"
    }
   },
   "source": [
    "(∩｀-´)⊃━☆ﾟ.*･｡ﾟ"
   ]
  },
  {
   "cell_type": "markdown",
   "metadata": {
    "pycharm": {
     "name": "#%% md\n"
    }
   },
   "source": [
    "**Задание 2. (2.5 балла)** Реализуйте все методы класса `WordAligner` в соответствии с полученными вами формулами. Протестируйте вашу реализацию через Яндекс.Контест, а здесь обучите модель и посчитайте её AER на истинной разметке. Чтобы предсказать выравнивание для пары предложений в этой модели, следует выбирать в соответствие для слова в целевом предложении с индексом $i$ позицию, соответствующую максимуму апостериорного распределения $p(a_i|T,S)$."
   ]
  },
  {
   "cell_type": "code",
   "execution_count": null,
   "metadata": {
    "pycharm": {
     "name": "#%%\n"
    }
   },
   "outputs": [],
   "source": [
    "from models import WordAligner\n",
    "\n",
    "word_aligner = WordAligner(len(t_idx_src), len(t_idx_tgt), 20)\n",
    "word_aligner.fit(tokenized_sentences);\n",
    "\n",
    "# ༼つ ಠ益ಠ༽つ ─=≡ΣO))"
   ]
  },
  {
   "cell_type": "markdown",
   "metadata": {
    "pycharm": {
     "name": "#%% md\n"
    }
   },
   "source": [
    "Заметим, что таблицу вероятностей перевода можно использовать и саму по себе для построения словарей. Пример работы показан ниже: метод хоть и работает, но мягко говоря, неидально — слишком мало данных."
   ]
  },
  {
   "cell_type": "code",
   "execution_count": null,
   "metadata": {
    "pycharm": {
     "name": "#%%\n"
    }
   },
   "outputs": [],
   "source": [
    "idx_token_tgt = {index:token for token, index in t_idx_tgt.items()}"
   ]
  },
  {
   "cell_type": "code",
   "execution_count": null,
   "metadata": {
    "pycharm": {
     "name": "#%%\n"
    }
   },
   "outputs": [],
   "source": [
    "[idx_token_tgt[i] for i in word_aligner.translation_probs[t_idx_src['Mr']].argsort()[-3:]]"
   ]
  },
  {
   "cell_type": "code",
   "execution_count": null,
   "metadata": {
    "pycharm": {
     "name": "#%%\n"
    }
   },
   "outputs": [],
   "source": [
    "[idx_token_tgt[i] for i in word_aligner.translation_probs[t_idx_src['Mrs']].argsort()[-3:]]"
   ]
  },
  {
   "cell_type": "code",
   "execution_count": null,
   "metadata": {
    "pycharm": {
     "name": "#%%\n"
    },
    "scrolled": true
   },
   "outputs": [],
   "source": [
    "[idx_token_tgt[i] for i in word_aligner.translation_probs[t_idx_src['water']].argsort()[-3:]]"
   ]
  },
  {
   "cell_type": "code",
   "execution_count": null,
   "metadata": {
    "pycharm": {
     "name": "#%%\n"
    }
   },
   "outputs": [],
   "source": [
    "[idx_token_tgt[i] for i in word_aligner.translation_probs[t_idx_src['depended']].argsort()[-3:]]"
   ]
  },
  {
   "cell_type": "code",
   "execution_count": null,
   "metadata": {
    "pycharm": {
     "name": "#%%\n"
    }
   },
   "outputs": [],
   "source": [
    "[idx_token_tgt[i] for i in word_aligner.translation_probs[t_idx_src['on']].argsort()[-3:]]"
   ]
  },
  {
   "cell_type": "markdown",
   "metadata": {
    "pycharm": {
     "name": "#%% md\n"
    }
   },
   "source": [
    "**Задание 3. (0.5 балла)** Мы смогли получить матрицу условных вероятностей перевода исходного языка в целевой. Можно ли, пользуясь этой матрицей и ещё какими-то статистиками по параллельному корпусу, получить вероятности перевода целевого языка в исходный? Реализуйте такой метод и приведите ниже пример его работы, показав пару удачных переводов."
   ]
  },
  {
   "cell_type": "code",
   "execution_count": null,
   "metadata": {
    "pycharm": {
     "name": "#%%\n"
    }
   },
   "outputs": [],
   "source": [
    "# (>ω<)ノ—==ΞΞ☆*✲ﾟ"
   ]
  },
  {
   "cell_type": "markdown",
   "metadata": {
    "pycharm": {
     "name": "#%% md\n"
    }
   },
   "source": [
    "**Задание 4. (0.5 балла)** Визуализируйте полученные выравнивания для нескольких предложений в виде heatmap: по одной из осей располагаются токены исходного текста, по другой — токены его перевода, на пересечении позиций $i$ и $j$ — 0 либо 1 в зависимости от того, является ли в обученной модели $a_i$ равным $j$. Можете ли вы их проинтерпретировать? Постройте аналогичный график, но без дискретизации, а визуализируя напрямую апостериорное распределение. Можете ли вы найти ситуации, в которых модель не уверена, переводом какого слова является слово $i$?"
   ]
  },
  {
   "cell_type": "code",
   "execution_count": null,
   "metadata": {
    "pycharm": {
     "name": "#%%\n"
    }
   },
   "outputs": [],
   "source": [
    "# (•̀ 3 •́)━★☆.*･｡ﾟ"
   ]
  },
  {
   "cell_type": "markdown",
   "metadata": {
    "pycharm": {
     "name": "#%% md\n"
    }
   },
   "source": [
    "Заметим, что при задании модели мы сделали довольно сильное предположение о том, что вероятности выбора слова для выравнивания никак не зависят от позиции слова в целевом предложении. Можно сделать эти вероятности настраиваемыми параметрами, получив прямоугольную матрицу $\\phi_{m,n}(j|i)=p(a_i=j|m,n)$ для каждой пары длин предложений $m,n$: по-прежнему мы получаем распределение над индексами в исходном предложении. Тогда модель приобретает вид\n",
    "$$\n",
    "p(A,T|S)=\\prod_{i=1}^m p(a_i|m,n)p(t_i| a_i, S)=\\prod_{i=1}^m \\phi_{m,n}(a_i|i)\\theta(t_i|s_{a_i}).\n",
    "$$"
   ]
  },
  {
   "cell_type": "markdown",
   "metadata": {
    "pycharm": {
     "name": "#%% md\n"
    }
   },
   "source": [
    "**Задание 5. (1.5 балла)** Выведите шаги EM-алгоритма для этой модели, а также получите выражение для подсчёта нижней оценки правдоподобия."
   ]
  },
  {
   "cell_type": "markdown",
   "metadata": {
    "pycharm": {
     "name": "#%% md\n"
    }
   },
   "source": [
    "ଘ(๑˃̵ᴗ˂̵)━☆ﾟ.*･｡ﾟ"
   ]
  },
  {
   "cell_type": "markdown",
   "metadata": {
    "pycharm": {
     "name": "#%% md\n"
    }
   },
   "source": [
    "**Задание 6. (2 балла)** Реализуйте все методы класса `WordPositionAligner`, протестируйте их корректность через Яндекс.Контест. Обучите модель, оцените её качество на истинной разметке и сравните его с качеством предыдущей более простой модели. Проиллюстрируйте влияние стартовых параметров на результат, проинициализировав эту модель параметрами модели из задания 2 (важно, чтобы суммарное число эпох обучения в обоих сценариях оставалось тем же)."
   ]
  },
  {
   "cell_type": "code",
   "execution_count": null,
   "metadata": {
    "pycharm": {
     "name": "#%%\n"
    }
   },
   "outputs": [],
   "source": [
    "from models import WordPositionAligner\n",
    "# (≧ ◡ ≦)━★☆.*･｡ﾟ"
   ]
  },
  {
   "cell_type": "markdown",
   "metadata": {
    "pycharm": {
     "name": "#%% md\n"
    }
   },
   "source": [
    "**Задание 7. (1 балл)** В предыдущих пунктах мы никак не заостряли внимание на предобработке текстов, что может негативно влиять на результаты обученной модели. Например, сейчас метод выравнивания учитывает регистр, а слова на чешском языке вдобавок обладают богатой морфологией и большим количеством диакритических знаков. Если сократить количество параметров модели (различных слов), можно ускорить обучение и добиться лучших результатов, потому что статистики по словам будут считаться по большему числу параллельных предложений.\n",
    "\n",
    "Примените к исходным данным [Unicode-нормализацию](https://en.wikipedia.org/wiki/Unicode_equivalence#Normalization), приведите их к нижнему регистру и обучите модель выравнивания заново. Сравните качество и скорость обучения с предыдущими результатами и сделайте выводы. Если вы найдете в данных ещё какие-то проблемы, которые можно исправить более грамотной предобработкой, также продемонстрируйте, как их решение влияет на качество.\n",
    "\n",
    "**Важно:** здесь и далее в процессе обработки данных у вас может получаться, что из тестовых данных будут удалены предложения из-за отсутствия слов в словаре. Если такое всё же произошло, для корректности сравнения считайте AER вашей модели на удалённых предложениях равным 1."
   ]
  },
  {
   "cell_type": "code",
   "execution_count": null,
   "metadata": {
    "pycharm": {
     "name": "#%%\n"
    }
   },
   "outputs": [],
   "source": [
    "# (੭•̀ω•́)੭̸*✩⁺˚"
   ]
  },
  {
   "cell_type": "markdown",
   "metadata": {
    "pycharm": {
     "name": "#%% md\n"
    }
   },
   "source": [
    "**Задание 7. (бонус, до 3 баллов)** \n",
    "\n",
    "Улучшите качество получившейся системы настолько, насколько сможете. За каждые 5 процентов, на которые AER на тех же данных получается меньше, чем минимум ошибки всех предыдущих моделей, вы получите по 1 бонусному баллу.\n",
    "\n",
    "Ниже приведены несколько идей, которые могут помочь вам повысить \n",
    "\n",
    "* Модифицировать модель: как вы можете понять, недостатком второго реализованного вами подхода является избыточное число параметров из-за необходимости подерживать отдельную матрицу для каждой различной пары длин предложений в корпусе. В статье https://www.aclweb.org/anthology/N13-1073.pdf приведён способ снижения числа параметров, задающих априорное распределение позиций выравнивания, который позволяет в десять раз быстрее обучать модель и получать лучшее качество.\n",
    "* Агрегация по двум направлениям: в статье https://www.aclweb.org/anthology/J03-1002/ утверждается, что асимметричность выравниваний вредит качеству, потому что из-за выбранной модели одному слову в целевом предложении не может соответствовать два слова в исходном предложении. Для решения этой проблемы (и улучшения метрик, разумеется) авторы предлагают несколько алгоритмов, которые можно попробовать применить в этом задании.\n",
    "* Использовать больше обучающих данных. В корпусе, которым мы пользуемся, только пара тысяч предложений, чего может не хватать для по-настоящему хорошей модели выравнивания. Разумеется, неразмеченных параллельных английско-чешских корпусов гораздо больше, поэтому можно воспользоваться ими. Хорошая точка для старта — данные с соревнования по машинному переводу  [воркшопа WMT](http://www.statmt.org/wmt20/translation-task.html).\n",
    "* В языках часто существуют слова наподобие артиклей или предлогов, которым не соответствует ни одно слово в переводе. Все рассмотренные в рамках задания модели это не учитывают, возможно, добавление возможности перевода в «нулевой» токен улучшит качество модели (при тестировании такие выравнивания имеет смысл выбрасывать)"
   ]
  },
  {
   "cell_type": "code",
   "execution_count": null,
   "metadata": {
    "pycharm": {
     "name": "#%%\n"
    }
   },
   "outputs": [],
   "source": [
    "# ┐_(ツ)_┌━☆ﾟ.*･｡ﾟ"
   ]
  }
 ],
 "metadata": {
  "kernelspec": {
   "display_name": "Python 3 (ipykernel)",
   "language": "python",
   "name": "python3"
  },
  "language_info": {
   "codemirror_mode": {
    "name": "ipython",
    "version": 3
   },
   "file_extension": ".py",
   "mimetype": "text/x-python",
   "name": "python",
   "nbconvert_exporter": "python",
   "pygments_lexer": "ipython3",
   "version": "3.11.6"
  }
 },
 "nbformat": 4,
 "nbformat_minor": 4
}
